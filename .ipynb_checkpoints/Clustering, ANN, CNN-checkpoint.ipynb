{
 "cells": [
  {
   "cell_type": "code",
   "execution_count": 19,
   "metadata": {},
   "outputs": [],
   "source": [
    "# Load packages\n",
    "import os\n",
    "import pandas as pd\n",
    "import numpy as np\n",
    "from sklearn import neighbors\n",
    "from sklearn.metrics import classification_report\n",
    "from sklearn.model_selection import train_test_split\n",
    "\n",
    "# This line is needed to display plots inline in Jupyter Notebook\n",
    "%matplotlib inline\n",
    "\n",
    "# Required for basic python plotting functionality\n",
    "import matplotlib.pyplot as plt\n",
    "\n",
    "# Required for formatting dates later in the case\n",
    "import datetime\n",
    "import matplotlib.dates as mdates\n",
    "from matplotlib.colors import ListedColormap\n",
    "from tqdm import tqdm\n",
    "\n",
    "# Advanced plotting functionality with seaborn\n",
    "import seaborn as sns\n",
    "#import folium  #needed for interactive map\n",
    "#from folium.plugins import HeatMap\n",
    "#from folium.plugins import FastMarkerCluster\n",
    "\n",
    "sns.set(style=\"whitegrid\")  # can set style depending on how you'd like it to look"
   ]
  },
  {
   "cell_type": "markdown",
   "metadata": {},
   "source": [
    "!pip install tqdm"
   ]
  },
  {
   "cell_type": "markdown",
   "metadata": {},
   "source": [
    "# Importing dataset and other useful definitions"
   ]
  },
  {
   "cell_type": "code",
   "execution_count": 7,
   "metadata": {},
   "outputs": [],
   "source": [
    "df = pd.read_csv('final_dataset_categoried.csv').drop(['Unnamed: 0'], axis=1)"
   ]
  },
  {
   "cell_type": "code",
   "execution_count": 9,
   "metadata": {
    "scrolled": true
   },
   "outputs": [
    {
     "data": {
      "text/html": [
       "<div>\n",
       "<style scoped>\n",
       "    .dataframe tbody tr th:only-of-type {\n",
       "        vertical-align: middle;\n",
       "    }\n",
       "\n",
       "    .dataframe tbody tr th {\n",
       "        vertical-align: top;\n",
       "    }\n",
       "\n",
       "    .dataframe thead th {\n",
       "        text-align: right;\n",
       "    }\n",
       "</style>\n",
       "<table border=\"1\" class=\"dataframe\">\n",
       "  <thead>\n",
       "    <tr style=\"text-align: right;\">\n",
       "      <th></th>\n",
       "      <th>Density</th>\n",
       "      <th>PercLatino</th>\n",
       "      <th>BachelorsRate</th>\n",
       "      <th>HousingUnits</th>\n",
       "      <th>TotalPop</th>\n",
       "      <th>Pop</th>\n",
       "      <th>PercAsian</th>\n",
       "      <th>PercBlack</th>\n",
       "      <th>MeanHHIncome</th>\n",
       "      <th>UnempRate</th>\n",
       "      <th>MedianHHIncome</th>\n",
       "      <th>AREA_WEIGHTED_RISK</th>\n",
       "      <th>PercWhite</th>\n",
       "      <th>ZipArea</th>\n",
       "      <th>count</th>\n",
       "      <th>minmax_count</th>\n",
       "      <th>minmax_content_amount</th>\n",
       "      <th>labels</th>\n",
       "      <th>totalContentsInsuranceCoverage</th>\n",
       "    </tr>\n",
       "  </thead>\n",
       "  <tbody>\n",
       "    <tr>\n",
       "      <th>0</th>\n",
       "      <td>6333.722287</td>\n",
       "      <td>0.152896</td>\n",
       "      <td>9100.0</td>\n",
       "      <td>18910</td>\n",
       "      <td>38876</td>\n",
       "      <td>37996</td>\n",
       "      <td>0.027832</td>\n",
       "      <td>0.131598</td>\n",
       "      <td>71218.0</td>\n",
       "      <td>0.043845</td>\n",
       "      <td>51132.0</td>\n",
       "      <td>0.646319</td>\n",
       "      <td>0.787221</td>\n",
       "      <td>5.999</td>\n",
       "      <td>897.695488</td>\n",
       "      <td>0.516220</td>\n",
       "      <td>0.554188</td>\n",
       "      <td>4</td>\n",
       "      <td>215159400.0</td>\n",
       "    </tr>\n",
       "    <tr>\n",
       "      <th>1</th>\n",
       "      <td>5864.864865</td>\n",
       "      <td>0.170330</td>\n",
       "      <td>6504.0</td>\n",
       "      <td>9243</td>\n",
       "      <td>20748</td>\n",
       "      <td>18879</td>\n",
       "      <td>0.068874</td>\n",
       "      <td>0.127771</td>\n",
       "      <td>88894.0</td>\n",
       "      <td>0.063429</td>\n",
       "      <td>56786.0</td>\n",
       "      <td>0.513518</td>\n",
       "      <td>0.756940</td>\n",
       "      <td>3.219</td>\n",
       "      <td>1257.887442</td>\n",
       "      <td>0.723348</td>\n",
       "      <td>0.576048</td>\n",
       "      <td>4</td>\n",
       "      <td>212752400.0</td>\n",
       "    </tr>\n",
       "    <tr>\n",
       "      <th>2</th>\n",
       "      <td>5720.188061</td>\n",
       "      <td>0.151738</td>\n",
       "      <td>9036.0</td>\n",
       "      <td>17085</td>\n",
       "      <td>41084</td>\n",
       "      <td>40150</td>\n",
       "      <td>0.041087</td>\n",
       "      <td>0.121945</td>\n",
       "      <td>74662.0</td>\n",
       "      <td>0.046281</td>\n",
       "      <td>58624.0</td>\n",
       "      <td>0.674042</td>\n",
       "      <td>0.801894</td>\n",
       "      <td>7.019</td>\n",
       "      <td>1174.139468</td>\n",
       "      <td>0.675189</td>\n",
       "      <td>0.766426</td>\n",
       "      <td>4</td>\n",
       "      <td>298825800.0</td>\n",
       "    </tr>\n",
       "    <tr>\n",
       "      <th>3</th>\n",
       "      <td>5818.551279</td>\n",
       "      <td>0.111746</td>\n",
       "      <td>9197.0</td>\n",
       "      <td>12514</td>\n",
       "      <td>25200</td>\n",
       "      <td>24339</td>\n",
       "      <td>0.025437</td>\n",
       "      <td>0.027302</td>\n",
       "      <td>105106.0</td>\n",
       "      <td>0.040639</td>\n",
       "      <td>62982.0</td>\n",
       "      <td>0.585405</td>\n",
       "      <td>0.904881</td>\n",
       "      <td>4.183</td>\n",
       "      <td>1105.524743</td>\n",
       "      <td>0.635732</td>\n",
       "      <td>0.557463</td>\n",
       "      <td>4</td>\n",
       "      <td>235310300.0</td>\n",
       "    </tr>\n",
       "    <tr>\n",
       "      <th>4</th>\n",
       "      <td>6065.276168</td>\n",
       "      <td>0.226628</td>\n",
       "      <td>4055.0</td>\n",
       "      <td>6536</td>\n",
       "      <td>16344</td>\n",
       "      <td>15703</td>\n",
       "      <td>0.059288</td>\n",
       "      <td>0.092450</td>\n",
       "      <td>86943.0</td>\n",
       "      <td>0.042713</td>\n",
       "      <td>63695.0</td>\n",
       "      <td>0.639270</td>\n",
       "      <td>0.794787</td>\n",
       "      <td>2.589</td>\n",
       "      <td>1738.979694</td>\n",
       "      <td>1.000000</td>\n",
       "      <td>0.500628</td>\n",
       "      <td>4</td>\n",
       "      <td>183343200.0</td>\n",
       "    </tr>\n",
       "  </tbody>\n",
       "</table>\n",
       "</div>"
      ],
      "text/plain": [
       "       Density  PercLatino  BachelorsRate  HousingUnits  TotalPop    Pop  \\\n",
       "0  6333.722287    0.152896         9100.0         18910     38876  37996   \n",
       "1  5864.864865    0.170330         6504.0          9243     20748  18879   \n",
       "2  5720.188061    0.151738         9036.0         17085     41084  40150   \n",
       "3  5818.551279    0.111746         9197.0         12514     25200  24339   \n",
       "4  6065.276168    0.226628         4055.0          6536     16344  15703   \n",
       "\n",
       "   PercAsian  PercBlack  MeanHHIncome  UnempRate  MedianHHIncome  \\\n",
       "0   0.027832   0.131598       71218.0   0.043845         51132.0   \n",
       "1   0.068874   0.127771       88894.0   0.063429         56786.0   \n",
       "2   0.041087   0.121945       74662.0   0.046281         58624.0   \n",
       "3   0.025437   0.027302      105106.0   0.040639         62982.0   \n",
       "4   0.059288   0.092450       86943.0   0.042713         63695.0   \n",
       "\n",
       "   AREA_WEIGHTED_RISK  PercWhite  ZipArea        count  minmax_count  \\\n",
       "0            0.646319   0.787221    5.999   897.695488      0.516220   \n",
       "1            0.513518   0.756940    3.219  1257.887442      0.723348   \n",
       "2            0.674042   0.801894    7.019  1174.139468      0.675189   \n",
       "3            0.585405   0.904881    4.183  1105.524743      0.635732   \n",
       "4            0.639270   0.794787    2.589  1738.979694      1.000000   \n",
       "\n",
       "   minmax_content_amount  labels  totalContentsInsuranceCoverage  \n",
       "0               0.554188       4                     215159400.0  \n",
       "1               0.576048       4                     212752400.0  \n",
       "2               0.766426       4                     298825800.0  \n",
       "3               0.557463       4                     235310300.0  \n",
       "4               0.500628       4                     183343200.0  "
      ]
     },
     "execution_count": 9,
     "metadata": {},
     "output_type": "execute_result"
    }
   ],
   "source": [
    "df.head(5)"
   ]
  },
  {
   "cell_type": "code",
   "execution_count": 12,
   "metadata": {},
   "outputs": [],
   "source": [
    "final_columns=['Density',\n",
    "   'PercLatino',\n",
    "   'BachelorsRate',\n",
    "   'HousingUnits',\n",
    "   'TotalPop',\n",
    "   'Pop',\n",
    "   'PercAsian',\n",
    "   'PercBlack',\n",
    "   'MeanHHIncome',\n",
    "   'UnempRate',\n",
    "   'MedianHHIncome',\n",
    "   'AREA_WEIGHTED_RISK',\n",
    "   'PercWhite',\n",
    "   'ZipArea']\n",
    "targets = ['count', 'minmax_count', 'minmax_content_amount', 'labels', 'totalContentsInsuranceCoverage']"
   ]
  },
  {
   "cell_type": "markdown",
   "metadata": {},
   "source": [
    "# Clustering Algorithms (k-means, k-NN)"
   ]
  },
  {
   "cell_type": "markdown",
   "metadata": {},
   "source": [
    "## k-nearest neighbors"
   ]
  },
  {
   "cell_type": "code",
   "execution_count": 13,
   "metadata": {},
   "outputs": [],
   "source": [
    "X = df[final_columns]\n",
    "y_count = df['count']\n",
    "y_amount = df['totalContentsInsuranceCoverage']\n",
    "y_minmax_count = df['minmax_count']\n",
    "y_minmax_amount = df['minmax_content_amount']\n",
    "y_labels = df['labels']"
   ]
  },
  {
   "cell_type": "code",
   "execution_count": 18,
   "metadata": {},
   "outputs": [
    {
     "data": {
      "text/plain": [
       "KNeighborsClassifier(algorithm='auto', leaf_size=30, metric='minkowski',\n",
       "           metric_params=None, n_jobs=None, n_neighbors=10, p=2,\n",
       "           weights='uniform')"
      ]
     },
     "execution_count": 18,
     "metadata": {},
     "output_type": "execute_result"
    }
   ],
   "source": [
    "h = 0.2 #mesh step size — hyperparameter\n",
    "k = 10 #K-nearest\n",
    "x_train, x_test, y_train, y_test = train_test_split(x, y)\n",
    "clf = neighbors.KNeighborsClassifier(k, weights='uniform', algorithm='auto')\n",
    "clf.fit(X, y_labels)"
   ]
  },
  {
   "cell_type": "markdown",
   "metadata": {},
   "source": [
    "# Artificial Neural Nets (ANN)"
   ]
  },
  {
   "cell_type": "code",
   "execution_count": null,
   "metadata": {},
   "outputs": [],
   "source": []
  },
  {
   "cell_type": "code",
   "execution_count": null,
   "metadata": {},
   "outputs": [],
   "source": []
  }
 ],
 "metadata": {
  "kernelspec": {
   "display_name": "Python 3",
   "language": "python",
   "name": "python3"
  },
  "language_info": {
   "codemirror_mode": {
    "name": "ipython",
    "version": 3
   },
   "file_extension": ".py",
   "mimetype": "text/x-python",
   "name": "python",
   "nbconvert_exporter": "python",
   "pygments_lexer": "ipython3",
   "version": "3.6.7"
  }
 },
 "nbformat": 4,
 "nbformat_minor": 2
}
