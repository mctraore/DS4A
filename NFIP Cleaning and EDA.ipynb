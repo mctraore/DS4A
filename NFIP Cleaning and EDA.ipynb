{
 "cells": [
  {
   "cell_type": "code",
   "execution_count": 1,
   "metadata": {},
   "outputs": [],
   "source": [
    "# Load packages\n",
    "import os\n",
    "import pandas as pd\n",
    "import numpy as np\n",
    "\n",
    "# This line is needed to display plots inline in Jupyter Notebook\n",
    "%matplotlib inline\n",
    "\n",
    "# Required for basic python plotting functionality\n",
    "import matplotlib.pyplot as plt\n",
    "\n",
    "# Required for formatting dates later in the case\n",
    "import datetime\n",
    "import matplotlib.dates as mdates\n",
    "from tqdm import tqdm\n",
    "\n",
    "# Advanced plotting functionality with seaborn\n",
    "import seaborn as sns\n",
    "#import folium  #needed for interactive map\n",
    "#from folium.plugins import HeatMap\n",
    "#from folium.plugins import FastMarkerCluster\n",
    "\n",
    "sns.set(style=\"whitegrid\")  # can set style depending on how you'd like it to look"
   ]
  },
  {
   "cell_type": "code",
   "execution_count": 10,
   "metadata": {},
   "outputs": [
    {
     "name": "stdout",
     "output_type": "stream",
     "text": [
      "Collecting tqdm\n",
      "\u001b[?25l  Downloading https://files.pythonhosted.org/packages/80/02/8f8880a4fd6625461833abcf679d4c12a44c76f9925f92bf212bb6cefaad/tqdm-4.56.0-py2.py3-none-any.whl (72kB)\n",
      "\u001b[K    100% |████████████████████████████████| 81kB 5.3MB/s ta 0:00:01\n",
      "\u001b[?25hInstalling collected packages: tqdm\n",
      "Successfully installed tqdm-4.56.0\n"
     ]
    }
   ],
   "source": [
    "!pip install tqdm"
   ]
  },
  {
   "cell_type": "code",
   "execution_count": 11,
   "metadata": {
    "scrolled": true
   },
   "outputs": [
    {
     "name": "stdout",
     "output_type": "stream",
     "text": [
      "Collecting folium\n",
      "\u001b[?25l  Downloading https://files.pythonhosted.org/packages/c3/83/e8cb37afc2f016a1cf4caab8d22caf7fe4156c4c15230d8abc9c83547e0c/folium-0.12.1-py2.py3-none-any.whl (94kB)\n",
      "\u001b[K    100% |████████████████████████████████| 102kB 5.2MB/s a 0:00:011\n",
      "\u001b[?25hCollecting branca>=0.3.0 (from folium)\n",
      "  Downloading https://files.pythonhosted.org/packages/61/1f/570b0615c452265d57e4114e633231d6cd9b9d275256778a675681e4f711/branca-0.4.2-py3-none-any.whl\n",
      "Requirement already satisfied: jinja2>=2.9 in /opt/conda/lib/python3.6/site-packages (from folium) (2.10)\n",
      "Requirement already satisfied: requests in /opt/conda/lib/python3.6/site-packages (from folium) (2.21.0)\n",
      "Requirement already satisfied: numpy in /opt/conda/lib/python3.6/site-packages (from folium) (1.13.3)\n",
      "Requirement already satisfied: MarkupSafe>=0.23 in /opt/conda/lib/python3.6/site-packages (from jinja2>=2.9->folium) (1.1.0)\n",
      "Requirement already satisfied: urllib3<1.25,>=1.21.1 in /opt/conda/lib/python3.6/site-packages (from requests->folium) (1.24.1)\n",
      "Requirement already satisfied: chardet<3.1.0,>=3.0.2 in /opt/conda/lib/python3.6/site-packages (from requests->folium) (3.0.4)\n",
      "Requirement already satisfied: idna<2.9,>=2.5 in /opt/conda/lib/python3.6/site-packages (from requests->folium) (2.8)\n",
      "Requirement already satisfied: certifi>=2017.4.17 in /opt/conda/lib/python3.6/site-packages (from requests->folium) (2018.11.29)\n",
      "Installing collected packages: branca, folium\n",
      "Successfully installed branca-0.4.2 folium-0.12.1\n"
     ]
    }
   ],
   "source": [
    "!pip install folium"
   ]
  },
  {
   "cell_type": "markdown",
   "metadata": {},
   "source": [
    "## Import Dataframe"
   ]
  },
  {
   "cell_type": "code",
   "execution_count": 2,
   "metadata": {},
   "outputs": [
    {
     "name": "stderr",
     "output_type": "stream",
     "text": [
      "/Users/Sathya/anaconda3/envs/pyrecent/lib/python3.8/site-packages/IPython/core/interactiveshell.py:3145: DtypeWarning: Columns (31) have mixed types.Specify dtype option on import or set low_memory=False.\n",
      "  has_raised = await self.run_ast_nodes(code_ast.body, cell_name,\n"
     ]
    }
   ],
   "source": [
    "df = pd.read_csv('FimaNfipClaims.csv')"
   ]
  },
  {
   "cell_type": "code",
   "execution_count": 3,
   "metadata": {},
   "outputs": [
    {
     "data": {
      "text/plain": [
       "Index(['agricultureStructureIndicator', 'asOfDate', 'baseFloodElevation',\n",
       "       'basementEnclosureCrawlspace', 'reportedCity', 'condominiumIndicator',\n",
       "       'policyCount', 'countyCode', 'communityRatingSystemDiscount',\n",
       "       'dateOfLoss', 'elevatedBuildingIndicator',\n",
       "       'elevationCertificateIndicator', 'elevationDifference', 'censusTract',\n",
       "       'floodZone', 'houseWorship', 'latitude', 'longitude',\n",
       "       'locationOfContents', 'lowestAdjacentGrade', 'lowestFloorElevation',\n",
       "       'numberOfFloorsInTheInsuredBuilding', 'nonProfitIndicator',\n",
       "       'obstructionType', 'occupancyType', 'originalConstructionDate',\n",
       "       'originalNBDate', 'amountPaidOnBuildingClaim',\n",
       "       'amountPaidOnContentsClaim',\n",
       "       'amountPaidOnIncreasedCostOfComplianceClaim',\n",
       "       'postFIRMConstructionIndicator', 'rateMethod',\n",
       "       'smallBusinessIndicatorBuilding', 'state',\n",
       "       'totalBuildingInsuranceCoverage', 'totalContentsInsuranceCoverage',\n",
       "       'yearOfLoss', 'reportedZipcode', 'primaryResidence', 'id'],\n",
       "      dtype='object')"
      ]
     },
     "execution_count": 3,
     "metadata": {},
     "output_type": "execute_result"
    }
   ],
   "source": [
    "df.columns"
   ]
  },
  {
   "cell_type": "code",
   "execution_count": 4,
   "metadata": {},
   "outputs": [
    {
     "data": {
      "text/html": [
       "<div>\n",
       "<style scoped>\n",
       "    .dataframe tbody tr th:only-of-type {\n",
       "        vertical-align: middle;\n",
       "    }\n",
       "\n",
       "    .dataframe tbody tr th {\n",
       "        vertical-align: top;\n",
       "    }\n",
       "\n",
       "    .dataframe thead th {\n",
       "        text-align: right;\n",
       "    }\n",
       "</style>\n",
       "<table border=\"1\" class=\"dataframe\">\n",
       "  <thead>\n",
       "    <tr style=\"text-align: right;\">\n",
       "      <th></th>\n",
       "      <th>amountPaidOnBuildingClaim</th>\n",
       "      <th>amountPaidOnContentsClaim</th>\n",
       "      <th>amountPaidOnIncreasedCostOfComplianceClaim</th>\n",
       "      <th>totalBuildingInsuranceCoverage</th>\n",
       "      <th>totalContentsInsuranceCoverage</th>\n",
       "    </tr>\n",
       "  </thead>\n",
       "  <tbody>\n",
       "    <tr>\n",
       "      <th>0</th>\n",
       "      <td>47601.75</td>\n",
       "      <td>64.36</td>\n",
       "      <td>NaN</td>\n",
       "      <td>125300.0</td>\n",
       "      <td>5000.0</td>\n",
       "    </tr>\n",
       "    <tr>\n",
       "      <th>1</th>\n",
       "      <td>NaN</td>\n",
       "      <td>NaN</td>\n",
       "      <td>NaN</td>\n",
       "      <td>250000.0</td>\n",
       "      <td>100000.0</td>\n",
       "    </tr>\n",
       "    <tr>\n",
       "      <th>2</th>\n",
       "      <td>3743.72</td>\n",
       "      <td>893.10</td>\n",
       "      <td>NaN</td>\n",
       "      <td>250000.0</td>\n",
       "      <td>100000.0</td>\n",
       "    </tr>\n",
       "    <tr>\n",
       "      <th>3</th>\n",
       "      <td>34500.00</td>\n",
       "      <td>NaN</td>\n",
       "      <td>NaN</td>\n",
       "      <td>34500.0</td>\n",
       "      <td>0.0</td>\n",
       "    </tr>\n",
       "    <tr>\n",
       "      <th>4</th>\n",
       "      <td>18703.10</td>\n",
       "      <td>NaN</td>\n",
       "      <td>NaN</td>\n",
       "      <td>250000.0</td>\n",
       "      <td>100000.0</td>\n",
       "    </tr>\n",
       "    <tr>\n",
       "      <th>...</th>\n",
       "      <td>...</td>\n",
       "      <td>...</td>\n",
       "      <td>...</td>\n",
       "      <td>...</td>\n",
       "      <td>...</td>\n",
       "    </tr>\n",
       "    <tr>\n",
       "      <th>2502811</th>\n",
       "      <td>6018.95</td>\n",
       "      <td>NaN</td>\n",
       "      <td>NaN</td>\n",
       "      <td>78000.0</td>\n",
       "      <td>0.0</td>\n",
       "    </tr>\n",
       "    <tr>\n",
       "      <th>2502812</th>\n",
       "      <td>6931.21</td>\n",
       "      <td>NaN</td>\n",
       "      <td>NaN</td>\n",
       "      <td>130700.0</td>\n",
       "      <td>0.0</td>\n",
       "    </tr>\n",
       "    <tr>\n",
       "      <th>2502813</th>\n",
       "      <td>13686.86</td>\n",
       "      <td>NaN</td>\n",
       "      <td>NaN</td>\n",
       "      <td>29000.0</td>\n",
       "      <td>0.0</td>\n",
       "    </tr>\n",
       "    <tr>\n",
       "      <th>2502814</th>\n",
       "      <td>69919.61</td>\n",
       "      <td>19549.61</td>\n",
       "      <td>NaN</td>\n",
       "      <td>75000.0</td>\n",
       "      <td>23000.0</td>\n",
       "    </tr>\n",
       "    <tr>\n",
       "      <th>2502815</th>\n",
       "      <td>51253.77</td>\n",
       "      <td>11600.00</td>\n",
       "      <td>NaN</td>\n",
       "      <td>66600.0</td>\n",
       "      <td>20000.0</td>\n",
       "    </tr>\n",
       "  </tbody>\n",
       "</table>\n",
       "<p>2502816 rows × 5 columns</p>\n",
       "</div>"
      ],
      "text/plain": [
       "         amountPaidOnBuildingClaim  amountPaidOnContentsClaim  \\\n",
       "0                         47601.75                      64.36   \n",
       "1                              NaN                        NaN   \n",
       "2                          3743.72                     893.10   \n",
       "3                         34500.00                        NaN   \n",
       "4                         18703.10                        NaN   \n",
       "...                            ...                        ...   \n",
       "2502811                    6018.95                        NaN   \n",
       "2502812                    6931.21                        NaN   \n",
       "2502813                   13686.86                        NaN   \n",
       "2502814                   69919.61                   19549.61   \n",
       "2502815                   51253.77                   11600.00   \n",
       "\n",
       "         amountPaidOnIncreasedCostOfComplianceClaim  \\\n",
       "0                                               NaN   \n",
       "1                                               NaN   \n",
       "2                                               NaN   \n",
       "3                                               NaN   \n",
       "4                                               NaN   \n",
       "...                                             ...   \n",
       "2502811                                         NaN   \n",
       "2502812                                         NaN   \n",
       "2502813                                         NaN   \n",
       "2502814                                         NaN   \n",
       "2502815                                         NaN   \n",
       "\n",
       "         totalBuildingInsuranceCoverage  totalContentsInsuranceCoverage  \n",
       "0                              125300.0                          5000.0  \n",
       "1                              250000.0                        100000.0  \n",
       "2                              250000.0                        100000.0  \n",
       "3                               34500.0                             0.0  \n",
       "4                              250000.0                        100000.0  \n",
       "...                                 ...                             ...  \n",
       "2502811                         78000.0                             0.0  \n",
       "2502812                        130700.0                             0.0  \n",
       "2502813                         29000.0                             0.0  \n",
       "2502814                         75000.0                         23000.0  \n",
       "2502815                         66600.0                         20000.0  \n",
       "\n",
       "[2502816 rows x 5 columns]"
      ]
     },
     "execution_count": 4,
     "metadata": {},
     "output_type": "execute_result"
    }
   ],
   "source": [
    "df[['amountPaidOnBuildingClaim','amountPaidOnContentsClaim','amountPaidOnIncreasedCostOfComplianceClaim','totalBuildingInsuranceCoverage', 'totalContentsInsuranceCoverage']]"
   ]
  },
  {
   "cell_type": "code",
   "execution_count": 9,
   "metadata": {},
   "outputs": [
    {
     "data": {
      "text/plain": [
       "count    939285.000000\n",
       "mean      14560.209967\n",
       "std       29681.015047\n",
       "min      -41276.320000\n",
       "25%        1434.960000\n",
       "50%        5069.210000\n",
       "75%       15949.710000\n",
       "max      750000.000000\n",
       "Name: amountPaidOnContentsClaim, dtype: float64"
      ]
     },
     "execution_count": 9,
     "metadata": {},
     "output_type": "execute_result"
    }
   ],
   "source": [
    "df['amountPaidOnContentsClaim'].describe()"
   ]
  },
  {
   "cell_type": "markdown",
   "metadata": {},
   "source": [
    "## Cleaning"
   ]
  },
  {
   "cell_type": "code",
   "execution_count": null,
   "metadata": {},
   "outputs": [],
   "source": [
    "fig, ax = plt.subplots(figsize=(15,5))\n",
    "df['state'].value_counts().plot(ax=ax, kind='bar')\n",
    "ax.tick_params(axis='x', rotation=45)\n",
    "sum(df['state'].value_counts())\n",
    "#ASSUMPTION: only two are nans, so we can filter by louisiana without risking losing too much\n",
    "#data, not risking any "
   ]
  },
  {
   "cell_type": "code",
   "execution_count": null,
   "metadata": {
    "scrolled": false
   },
   "outputs": [],
   "source": [
    "louisiana = df[(df['yearOfLoss'].isin(range(2005, 2008))) & (df['state']=='LA')]\n",
    "louisiana"
   ]
  },
  {
   "cell_type": "markdown",
   "metadata": {},
   "source": [
    "### Other Cleaning"
   ]
  },
  {
   "cell_type": "code",
   "execution_count": null,
   "metadata": {},
   "outputs": [],
   "source": [
    "#creating pandas-recognized datetime column and then filtering for within a few months of Katrina.\n",
    "\n",
    "louisiana['dateTimeOfLoss'] = pd.to_datetime(louisiana['dateOfLoss'], infer_datetime_format=True)\n",
    "louisiana_katrina = louisiana[(louisiana['dateTimeOfLoss'] > \"2005-08-10\") & (louisiana['dateTimeOfLoss'] < \"2006-02-01\")]"
   ]
  },
  {
   "cell_type": "code",
   "execution_count": null,
   "metadata": {},
   "outputs": [],
   "source": [
    "pd.set_option('max_columns', None)\n",
    "louisiana_katrina\n",
    "#pd.reset_option('max_columns')"
   ]
  },
  {
   "cell_type": "code",
   "execution_count": null,
   "metadata": {},
   "outputs": [],
   "source": [
    "#dropping all rows that have nas for reported zipcode (financial data) and then casting to int.\n",
    "louisiana_katrina = louisiana_katrina.dropna(subset = ['reportedZipcode'])\n",
    "louisiana_katrina['reportedZipcode'] = louisiana_katrina['reportedZipcode'].apply(lambda zipcode: int(zipcode))"
   ]
  },
  {
   "cell_type": "code",
   "execution_count": null,
   "metadata": {},
   "outputs": [],
   "source": [
    "louisiana_katrina.isna().sum()"
   ]
  },
  {
   "cell_type": "code",
   "execution_count": null,
   "metadata": {},
   "outputs": [],
   "source": [
    "louisiana_katrina.to_csv('semiclean_katrina_louisiana_FIMA_NFIP.csv')"
   ]
  },
  {
   "cell_type": "markdown",
   "metadata": {},
   "source": [
    "## EDA"
   ]
  },
  {
   "cell_type": "code",
   "execution_count": 10,
   "metadata": {},
   "outputs": [
    {
     "name": "stderr",
     "output_type": "stream",
     "text": [
      "/Users/Sathya/anaconda3/envs/pyrecent/lib/python3.8/site-packages/IPython/core/interactiveshell.py:3145: DtypeWarning: Columns (32) have mixed types.Specify dtype option on import or set low_memory=False.\n",
      "  has_raised = await self.run_ast_nodes(code_ast.body, cell_name,\n"
     ]
    }
   ],
   "source": [
    "louisiana_katrina = pd.read_csv('semiclean_katrina_louisiana_FIMA_NFIP.csv')\n",
    "louisiana_katrina['dateTimeOfLoss'] = pd.to_datetime(louisiana_katrina['dateOfLoss'], infer_datetime_format=True)"
   ]
  },
  {
   "cell_type": "code",
   "execution_count": 12,
   "metadata": {},
   "outputs": [
    {
     "data": {
      "text/html": [
       "<div>\n",
       "<style scoped>\n",
       "    .dataframe tbody tr th:only-of-type {\n",
       "        vertical-align: middle;\n",
       "    }\n",
       "\n",
       "    .dataframe tbody tr th {\n",
       "        vertical-align: top;\n",
       "    }\n",
       "\n",
       "    .dataframe thead th {\n",
       "        text-align: right;\n",
       "    }\n",
       "</style>\n",
       "<table border=\"1\" class=\"dataframe\">\n",
       "  <thead>\n",
       "    <tr style=\"text-align: right;\">\n",
       "      <th></th>\n",
       "      <th>Unnamed: 0</th>\n",
       "      <th>agricultureStructureIndicator</th>\n",
       "      <th>asOfDate</th>\n",
       "      <th>baseFloodElevation</th>\n",
       "      <th>basementEnclosureCrawlspace</th>\n",
       "      <th>reportedCity</th>\n",
       "      <th>condominiumIndicator</th>\n",
       "      <th>policyCount</th>\n",
       "      <th>countyCode</th>\n",
       "      <th>communityRatingSystemDiscount</th>\n",
       "      <th>...</th>\n",
       "      <th>rateMethod</th>\n",
       "      <th>smallBusinessIndicatorBuilding</th>\n",
       "      <th>state</th>\n",
       "      <th>totalBuildingInsuranceCoverage</th>\n",
       "      <th>totalContentsInsuranceCoverage</th>\n",
       "      <th>yearOfLoss</th>\n",
       "      <th>reportedZipcode</th>\n",
       "      <th>primaryResidence</th>\n",
       "      <th>id</th>\n",
       "      <th>dateTimeOfLoss</th>\n",
       "    </tr>\n",
       "  </thead>\n",
       "  <tbody>\n",
       "    <tr>\n",
       "      <th>0</th>\n",
       "      <td>919</td>\n",
       "      <td>0.0</td>\n",
       "      <td>2020-11-22T00:53:40.710Z</td>\n",
       "      <td>3.0</td>\n",
       "      <td>NaN</td>\n",
       "      <td>KENNER</td>\n",
       "      <td>N</td>\n",
       "      <td>1.0</td>\n",
       "      <td>22051.0</td>\n",
       "      <td>6.0</td>\n",
       "      <td>...</td>\n",
       "      <td>1</td>\n",
       "      <td>0.0</td>\n",
       "      <td>LA</td>\n",
       "      <td>163400.0</td>\n",
       "      <td>220500.0</td>\n",
       "      <td>2005</td>\n",
       "      <td>70062</td>\n",
       "      <td>0.0</td>\n",
       "      <td>5fc65baef54611084d40ea08</td>\n",
       "      <td>2005-08-29 04:00:00+00:00</td>\n",
       "    </tr>\n",
       "    <tr>\n",
       "      <th>1</th>\n",
       "      <td>1345</td>\n",
       "      <td>0.0</td>\n",
       "      <td>2020-11-22T00:53:40.710Z</td>\n",
       "      <td>NaN</td>\n",
       "      <td>NaN</td>\n",
       "      <td>HARAHAN</td>\n",
       "      <td>N</td>\n",
       "      <td>1.0</td>\n",
       "      <td>22051.0</td>\n",
       "      <td>8.0</td>\n",
       "      <td>...</td>\n",
       "      <td>1</td>\n",
       "      <td>0.0</td>\n",
       "      <td>LA</td>\n",
       "      <td>200000.0</td>\n",
       "      <td>100000.0</td>\n",
       "      <td>2005</td>\n",
       "      <td>70123</td>\n",
       "      <td>0.0</td>\n",
       "      <td>5fc65baef54611084d40eb65</td>\n",
       "      <td>2005-08-29 04:00:00+00:00</td>\n",
       "    </tr>\n",
       "    <tr>\n",
       "      <th>2</th>\n",
       "      <td>1447</td>\n",
       "      <td>0.0</td>\n",
       "      <td>2020-11-22T00:53:40.710Z</td>\n",
       "      <td>NaN</td>\n",
       "      <td>NaN</td>\n",
       "      <td>SLIDELL</td>\n",
       "      <td>N</td>\n",
       "      <td>1.0</td>\n",
       "      <td>22103.0</td>\n",
       "      <td>7.0</td>\n",
       "      <td>...</td>\n",
       "      <td>1</td>\n",
       "      <td>0.0</td>\n",
       "      <td>LA</td>\n",
       "      <td>117000.0</td>\n",
       "      <td>38600.0</td>\n",
       "      <td>2005</td>\n",
       "      <td>70458</td>\n",
       "      <td>0.0</td>\n",
       "      <td>5fc65baef54611084d40ec0f</td>\n",
       "      <td>2005-08-29 04:00:00+00:00</td>\n",
       "    </tr>\n",
       "    <tr>\n",
       "      <th>3</th>\n",
       "      <td>2256</td>\n",
       "      <td>0.0</td>\n",
       "      <td>2020-11-22T00:53:40.710Z</td>\n",
       "      <td>NaN</td>\n",
       "      <td>0.0</td>\n",
       "      <td>NEW ORLEANS</td>\n",
       "      <td>N</td>\n",
       "      <td>1.0</td>\n",
       "      <td>22071.0</td>\n",
       "      <td>8.0</td>\n",
       "      <td>...</td>\n",
       "      <td>7</td>\n",
       "      <td>0.0</td>\n",
       "      <td>LA</td>\n",
       "      <td>250000.0</td>\n",
       "      <td>100000.0</td>\n",
       "      <td>2005</td>\n",
       "      <td>70118</td>\n",
       "      <td>1.0</td>\n",
       "      <td>5fc65baff54611084d40ef57</td>\n",
       "      <td>2005-08-29 04:00:00+00:00</td>\n",
       "    </tr>\n",
       "    <tr>\n",
       "      <th>4</th>\n",
       "      <td>2320</td>\n",
       "      <td>0.0</td>\n",
       "      <td>2020-11-22T00:53:40.710Z</td>\n",
       "      <td>NaN</td>\n",
       "      <td>0.0</td>\n",
       "      <td>NEW ORLEANS</td>\n",
       "      <td>N</td>\n",
       "      <td>1.0</td>\n",
       "      <td>22071.0</td>\n",
       "      <td>8.0</td>\n",
       "      <td>...</td>\n",
       "      <td>7</td>\n",
       "      <td>0.0</td>\n",
       "      <td>LA</td>\n",
       "      <td>100000.0</td>\n",
       "      <td>40000.0</td>\n",
       "      <td>2005</td>\n",
       "      <td>70122</td>\n",
       "      <td>0.0</td>\n",
       "      <td>5fc65baff54611084d40ef89</td>\n",
       "      <td>2005-08-29 04:00:00+00:00</td>\n",
       "    </tr>\n",
       "    <tr>\n",
       "      <th>...</th>\n",
       "      <td>...</td>\n",
       "      <td>...</td>\n",
       "      <td>...</td>\n",
       "      <td>...</td>\n",
       "      <td>...</td>\n",
       "      <td>...</td>\n",
       "      <td>...</td>\n",
       "      <td>...</td>\n",
       "      <td>...</td>\n",
       "      <td>...</td>\n",
       "      <td>...</td>\n",
       "      <td>...</td>\n",
       "      <td>...</td>\n",
       "      <td>...</td>\n",
       "      <td>...</td>\n",
       "      <td>...</td>\n",
       "      <td>...</td>\n",
       "      <td>...</td>\n",
       "      <td>...</td>\n",
       "      <td>...</td>\n",
       "      <td>...</td>\n",
       "    </tr>\n",
       "    <tr>\n",
       "      <th>188773</th>\n",
       "      <td>2502600</td>\n",
       "      <td>0.0</td>\n",
       "      <td>2020-11-22T00:53:40.710Z</td>\n",
       "      <td>NaN</td>\n",
       "      <td>NaN</td>\n",
       "      <td>JEFFERSON</td>\n",
       "      <td>N</td>\n",
       "      <td>1.0</td>\n",
       "      <td>22051.0</td>\n",
       "      <td>5.0</td>\n",
       "      <td>...</td>\n",
       "      <td>1</td>\n",
       "      <td>0.0</td>\n",
       "      <td>LA</td>\n",
       "      <td>100000.0</td>\n",
       "      <td>15700.0</td>\n",
       "      <td>2005</td>\n",
       "      <td>70121</td>\n",
       "      <td>1.0</td>\n",
       "      <td>5fc65dd3f54611084d671685</td>\n",
       "      <td>2005-08-29 04:00:00+00:00</td>\n",
       "    </tr>\n",
       "    <tr>\n",
       "      <th>188774</th>\n",
       "      <td>2502610</td>\n",
       "      <td>0.0</td>\n",
       "      <td>2020-11-22T00:53:40.710Z</td>\n",
       "      <td>NaN</td>\n",
       "      <td>NaN</td>\n",
       "      <td>NEW ORLEANS</td>\n",
       "      <td>N</td>\n",
       "      <td>1.0</td>\n",
       "      <td>22071.0</td>\n",
       "      <td>8.0</td>\n",
       "      <td>...</td>\n",
       "      <td>1</td>\n",
       "      <td>0.0</td>\n",
       "      <td>LA</td>\n",
       "      <td>91300.0</td>\n",
       "      <td>21000.0</td>\n",
       "      <td>2005</td>\n",
       "      <td>70126</td>\n",
       "      <td>1.0</td>\n",
       "      <td>5fc65dd3f54611084d671660</td>\n",
       "      <td>2005-08-29 04:00:00+00:00</td>\n",
       "    </tr>\n",
       "    <tr>\n",
       "      <th>188775</th>\n",
       "      <td>2502623</td>\n",
       "      <td>0.0</td>\n",
       "      <td>2020-11-22T00:53:40.710Z</td>\n",
       "      <td>NaN</td>\n",
       "      <td>NaN</td>\n",
       "      <td>KENNER</td>\n",
       "      <td>N</td>\n",
       "      <td>1.0</td>\n",
       "      <td>22051.0</td>\n",
       "      <td>7.0</td>\n",
       "      <td>...</td>\n",
       "      <td>1</td>\n",
       "      <td>0.0</td>\n",
       "      <td>LA</td>\n",
       "      <td>50000.0</td>\n",
       "      <td>10000.0</td>\n",
       "      <td>2005</td>\n",
       "      <td>70065</td>\n",
       "      <td>1.0</td>\n",
       "      <td>5fc65dd3f54611084d671686</td>\n",
       "      <td>2005-08-29 04:00:00+00:00</td>\n",
       "    </tr>\n",
       "    <tr>\n",
       "      <th>188776</th>\n",
       "      <td>2502642</td>\n",
       "      <td>0.0</td>\n",
       "      <td>2020-11-22T00:53:40.710Z</td>\n",
       "      <td>9.0</td>\n",
       "      <td>NaN</td>\n",
       "      <td>NEW IBERIA</td>\n",
       "      <td>N</td>\n",
       "      <td>1.0</td>\n",
       "      <td>22045.0</td>\n",
       "      <td>NaN</td>\n",
       "      <td>...</td>\n",
       "      <td>1</td>\n",
       "      <td>0.0</td>\n",
       "      <td>LA</td>\n",
       "      <td>50000.0</td>\n",
       "      <td>0.0</td>\n",
       "      <td>2005</td>\n",
       "      <td>70560</td>\n",
       "      <td>1.0</td>\n",
       "      <td>5fc65dd3f54611084d6716ae</td>\n",
       "      <td>2005-09-24 04:00:00+00:00</td>\n",
       "    </tr>\n",
       "    <tr>\n",
       "      <th>188777</th>\n",
       "      <td>2502715</td>\n",
       "      <td>0.0</td>\n",
       "      <td>2020-11-22T00:53:40.710Z</td>\n",
       "      <td>NaN</td>\n",
       "      <td>NaN</td>\n",
       "      <td>SLIDELL</td>\n",
       "      <td>N</td>\n",
       "      <td>1.0</td>\n",
       "      <td>22103.0</td>\n",
       "      <td>9.0</td>\n",
       "      <td>...</td>\n",
       "      <td>1</td>\n",
       "      <td>0.0</td>\n",
       "      <td>LA</td>\n",
       "      <td>40000.0</td>\n",
       "      <td>0.0</td>\n",
       "      <td>2005</td>\n",
       "      <td>70460</td>\n",
       "      <td>1.0</td>\n",
       "      <td>5fc65dd3f54611084d67170d</td>\n",
       "      <td>2005-08-29 04:00:00+00:00</td>\n",
       "    </tr>\n",
       "  </tbody>\n",
       "</table>\n",
       "<p>188778 rows × 42 columns</p>\n",
       "</div>"
      ],
      "text/plain": [
       "        Unnamed: 0  agricultureStructureIndicator                  asOfDate  \\\n",
       "0              919                            0.0  2020-11-22T00:53:40.710Z   \n",
       "1             1345                            0.0  2020-11-22T00:53:40.710Z   \n",
       "2             1447                            0.0  2020-11-22T00:53:40.710Z   \n",
       "3             2256                            0.0  2020-11-22T00:53:40.710Z   \n",
       "4             2320                            0.0  2020-11-22T00:53:40.710Z   \n",
       "...            ...                            ...                       ...   \n",
       "188773     2502600                            0.0  2020-11-22T00:53:40.710Z   \n",
       "188774     2502610                            0.0  2020-11-22T00:53:40.710Z   \n",
       "188775     2502623                            0.0  2020-11-22T00:53:40.710Z   \n",
       "188776     2502642                            0.0  2020-11-22T00:53:40.710Z   \n",
       "188777     2502715                            0.0  2020-11-22T00:53:40.710Z   \n",
       "\n",
       "        baseFloodElevation  basementEnclosureCrawlspace reportedCity  \\\n",
       "0                      3.0                          NaN       KENNER   \n",
       "1                      NaN                          NaN      HARAHAN   \n",
       "2                      NaN                          NaN      SLIDELL   \n",
       "3                      NaN                          0.0  NEW ORLEANS   \n",
       "4                      NaN                          0.0  NEW ORLEANS   \n",
       "...                    ...                          ...          ...   \n",
       "188773                 NaN                          NaN    JEFFERSON   \n",
       "188774                 NaN                          NaN  NEW ORLEANS   \n",
       "188775                 NaN                          NaN       KENNER   \n",
       "188776                 9.0                          NaN   NEW IBERIA   \n",
       "188777                 NaN                          NaN      SLIDELL   \n",
       "\n",
       "       condominiumIndicator  policyCount  countyCode  \\\n",
       "0                         N          1.0     22051.0   \n",
       "1                         N          1.0     22051.0   \n",
       "2                         N          1.0     22103.0   \n",
       "3                         N          1.0     22071.0   \n",
       "4                         N          1.0     22071.0   \n",
       "...                     ...          ...         ...   \n",
       "188773                    N          1.0     22051.0   \n",
       "188774                    N          1.0     22071.0   \n",
       "188775                    N          1.0     22051.0   \n",
       "188776                    N          1.0     22045.0   \n",
       "188777                    N          1.0     22103.0   \n",
       "\n",
       "        communityRatingSystemDiscount  ... rateMethod  \\\n",
       "0                                 6.0  ...          1   \n",
       "1                                 8.0  ...          1   \n",
       "2                                 7.0  ...          1   \n",
       "3                                 8.0  ...          7   \n",
       "4                                 8.0  ...          7   \n",
       "...                               ...  ...        ...   \n",
       "188773                            5.0  ...          1   \n",
       "188774                            8.0  ...          1   \n",
       "188775                            7.0  ...          1   \n",
       "188776                            NaN  ...          1   \n",
       "188777                            9.0  ...          1   \n",
       "\n",
       "        smallBusinessIndicatorBuilding  state  totalBuildingInsuranceCoverage  \\\n",
       "0                                  0.0     LA                        163400.0   \n",
       "1                                  0.0     LA                        200000.0   \n",
       "2                                  0.0     LA                        117000.0   \n",
       "3                                  0.0     LA                        250000.0   \n",
       "4                                  0.0     LA                        100000.0   \n",
       "...                                ...    ...                             ...   \n",
       "188773                             0.0     LA                        100000.0   \n",
       "188774                             0.0     LA                         91300.0   \n",
       "188775                             0.0     LA                         50000.0   \n",
       "188776                             0.0     LA                         50000.0   \n",
       "188777                             0.0     LA                         40000.0   \n",
       "\n",
       "        totalContentsInsuranceCoverage yearOfLoss  reportedZipcode  \\\n",
       "0                             220500.0       2005            70062   \n",
       "1                             100000.0       2005            70123   \n",
       "2                              38600.0       2005            70458   \n",
       "3                             100000.0       2005            70118   \n",
       "4                              40000.0       2005            70122   \n",
       "...                                ...        ...              ...   \n",
       "188773                         15700.0       2005            70121   \n",
       "188774                         21000.0       2005            70126   \n",
       "188775                         10000.0       2005            70065   \n",
       "188776                             0.0       2005            70560   \n",
       "188777                             0.0       2005            70460   \n",
       "\n",
       "        primaryResidence                        id            dateTimeOfLoss  \n",
       "0                    0.0  5fc65baef54611084d40ea08 2005-08-29 04:00:00+00:00  \n",
       "1                    0.0  5fc65baef54611084d40eb65 2005-08-29 04:00:00+00:00  \n",
       "2                    0.0  5fc65baef54611084d40ec0f 2005-08-29 04:00:00+00:00  \n",
       "3                    1.0  5fc65baff54611084d40ef57 2005-08-29 04:00:00+00:00  \n",
       "4                    0.0  5fc65baff54611084d40ef89 2005-08-29 04:00:00+00:00  \n",
       "...                  ...                       ...                       ...  \n",
       "188773               1.0  5fc65dd3f54611084d671685 2005-08-29 04:00:00+00:00  \n",
       "188774               1.0  5fc65dd3f54611084d671660 2005-08-29 04:00:00+00:00  \n",
       "188775               1.0  5fc65dd3f54611084d671686 2005-08-29 04:00:00+00:00  \n",
       "188776               1.0  5fc65dd3f54611084d6716ae 2005-09-24 04:00:00+00:00  \n",
       "188777               1.0  5fc65dd3f54611084d67170d 2005-08-29 04:00:00+00:00  \n",
       "\n",
       "[188778 rows x 42 columns]"
      ]
     },
     "execution_count": 12,
     "metadata": {},
     "output_type": "execute_result"
    }
   ],
   "source": [
    "louisiana_katrina"
   ]
  },
  {
   "cell_type": "code",
   "execution_count": 3,
   "metadata": {},
   "outputs": [
    {
     "ename": "NameError",
     "evalue": "name 'folium' is not defined",
     "output_type": "error",
     "traceback": [
      "\u001b[0;31m---------------------------------------------------------------------------\u001b[0m",
      "\u001b[0;31mNameError\u001b[0m                                 Traceback (most recent call last)",
      "\u001b[0;32m<ipython-input-3-15bacd0acf5a>\u001b[0m in \u001b[0;36m<module>\u001b[0;34m\u001b[0m\n\u001b[0;32m----> 1\u001b[0;31m folium_map = folium.Map(location=[31.298430, -92.469646],\n\u001b[0m\u001b[1;32m      2\u001b[0m                         \u001b[0mzoom_start\u001b[0m\u001b[0;34m=\u001b[0m\u001b[0;36m7\u001b[0m\u001b[0;34m,\u001b[0m\u001b[0;34m\u001b[0m\u001b[0;34m\u001b[0m\u001b[0m\n\u001b[1;32m      3\u001b[0m                         tiles=\"Stamen Terrain\")\n\u001b[1;32m      4\u001b[0m \u001b[0;31m#Now we can have a scatter plot of the first 1000 data points on the above map\u001b[0m\u001b[0;34m\u001b[0m\u001b[0;34m\u001b[0m\u001b[0;34m\u001b[0m\u001b[0m\n\u001b[1;32m      5\u001b[0m '''for _, listings in tqdm(louisiana_katrina.iterrows()):\n",
      "\u001b[0;31mNameError\u001b[0m: name 'folium' is not defined"
     ]
    }
   ],
   "source": [
    "folium_map = folium.Map(location=[31.298430, -92.469646],\n",
    "                        zoom_start=7,\n",
    "                        tiles=\"Stamen Terrain\")\n",
    "#Now we can have a scatter plot of the first 1000 data points on the above map\n",
    "'''for _, listings in tqdm(louisiana_katrina.iterrows()):\n",
    "    if np.isnan(listings['latitude']):\n",
    "        continue\n",
    "    marker = folium.CircleMarker(location=[listings[\"latitude\"],listings[\"longitude\"]],radius=5,color=\"r\",fill=True)\n",
    "    marker.add_to(folium_map)'''\n",
    "\n",
    "\n",
    "\n",
    "folium_map.add_child(FastMarkerCluster(louisiana_katrina[~(louisiana_katrina['latitude'].isna())][['latitude', 'longitude']].values.tolist()))\n",
    "\n",
    "\n",
    "folium_map"
   ]
  },
  {
   "cell_type": "code",
   "execution_count": 16,
   "metadata": {},
   "outputs": [
    {
     "data": {
      "text/html": [
       "<div>\n",
       "<style scoped>\n",
       "    .dataframe tbody tr th:only-of-type {\n",
       "        vertical-align: middle;\n",
       "    }\n",
       "\n",
       "    .dataframe tbody tr th {\n",
       "        vertical-align: top;\n",
       "    }\n",
       "\n",
       "    .dataframe thead th {\n",
       "        text-align: right;\n",
       "    }\n",
       "</style>\n",
       "<table border=\"1\" class=\"dataframe\">\n",
       "  <thead>\n",
       "    <tr style=\"text-align: right;\">\n",
       "      <th></th>\n",
       "      <th>count</th>\n",
       "    </tr>\n",
       "    <tr>\n",
       "      <th>reportedZipcode</th>\n",
       "      <th></th>\n",
       "    </tr>\n",
       "  </thead>\n",
       "  <tbody>\n",
       "    <tr>\n",
       "      <th>70000</th>\n",
       "      <td>2</td>\n",
       "    </tr>\n",
       "    <tr>\n",
       "      <th>70001</th>\n",
       "      <td>5510</td>\n",
       "    </tr>\n",
       "    <tr>\n",
       "      <th>70002</th>\n",
       "      <td>4450</td>\n",
       "    </tr>\n",
       "    <tr>\n",
       "      <th>70003</th>\n",
       "      <td>8433</td>\n",
       "    </tr>\n",
       "    <tr>\n",
       "      <th>70004</th>\n",
       "      <td>4</td>\n",
       "    </tr>\n",
       "    <tr>\n",
       "      <th>...</th>\n",
       "      <td>...</td>\n",
       "    </tr>\n",
       "    <tr>\n",
       "      <th>71409</th>\n",
       "      <td>1</td>\n",
       "    </tr>\n",
       "    <tr>\n",
       "      <th>71423</th>\n",
       "      <td>1</td>\n",
       "    </tr>\n",
       "    <tr>\n",
       "      <th>71433</th>\n",
       "      <td>1</td>\n",
       "    </tr>\n",
       "    <tr>\n",
       "      <th>71446</th>\n",
       "      <td>11</td>\n",
       "    </tr>\n",
       "    <tr>\n",
       "      <th>71463</th>\n",
       "      <td>2</td>\n",
       "    </tr>\n",
       "  </tbody>\n",
       "</table>\n",
       "<p>364 rows × 1 columns</p>\n",
       "</div>"
      ],
      "text/plain": [
       "                 count\n",
       "reportedZipcode       \n",
       "70000                2\n",
       "70001             5510\n",
       "70002             4450\n",
       "70003             8433\n",
       "70004                4\n",
       "...                ...\n",
       "71409                1\n",
       "71423                1\n",
       "71433                1\n",
       "71446               11\n",
       "71463                2\n",
       "\n",
       "[364 rows x 1 columns]"
      ]
     },
     "execution_count": 16,
     "metadata": {},
     "output_type": "execute_result"
    }
   ],
   "source": [
    "counts = louisiana_katrina.copy()\n",
    "counts['count'] = 1\n",
    "counts = counts.groupby(['reportedZipcode']).count()['count'].reset_index().set_index('reportedZipcode')\n",
    "counts = counts.sort_values(by='reportedZipcode')\n",
    "counts"
   ]
  },
  {
   "cell_type": "code",
   "execution_count": 27,
   "metadata": {},
   "outputs": [],
   "source": [
    "amounts = louisiana_katrina.copy()\n",
    "amounts = amounts.groupby(['reportedZipcode']).sum()[['amountPaidOnBuildingClaim','amountPaidOnContentsClaim']].reset_index().set_index('reportedZipcode')\n",
    "amounts = amounts.sort_values(by='reportedZipcode')\n",
    "merged_counts = counts.reset_index().merge(amounts.reset_index()).set_index('reportedZipcode').sort_values(by='reportedZipcode')"
   ]
  },
  {
   "cell_type": "code",
   "execution_count": 28,
   "metadata": {},
   "outputs": [],
   "source": [
    "merged_counts.to_csv('LA_NFIP_claims_counts.csv')"
   ]
  },
  {
   "cell_type": "code",
   "execution_count": 29,
   "metadata": {},
   "outputs": [],
   "source": [
    "merged = pd.read_csv('merged_socioeconomic_katrina_data.csv')\n",
    "merged = merged.drop(columns=[merged.columns[0], merged.columns[1]])"
   ]
  },
  {
   "cell_type": "code",
   "execution_count": 30,
   "metadata": {
    "scrolled": true
   },
   "outputs": [
    {
     "name": "stdout",
     "output_type": "stream",
     "text": [
      "IncomeBucket1\n",
      "IncomeBucket2\n",
      "IncomeBucket3\n",
      "IncomeBucket4\n",
      "IncomeBucket5\n",
      "IncomeBucket6\n",
      "IncomeBucket7\n",
      "IncomeBucket8\n",
      "IncomeBucket9\n",
      "MedianHHIncome\n",
      "MeanHHIncome\n"
     ]
    }
   ],
   "source": [
    "#to make float\n",
    "floats = ['IncomeBucket1', 'IncomeBucket2', 'IncomeBucket3', 'IncomeBucket4', 'IncomeBucket5',\n",
    "       'IncomeBucket6', 'IncomeBucket7', 'IncomeBucket8', 'IncomeBucket9',\n",
    "       'MedianHHIncome', 'MeanHHIncome']\n",
    "for col in floats:\n",
    "    print(col)\n",
    "    merged[col] = merged[col].apply(lambda x: float(x) if x != '-' and x != 'N' else None)"
   ]
  },
  {
   "cell_type": "code",
   "execution_count": 31,
   "metadata": {},
   "outputs": [
    {
     "data": {
      "text/plain": [
       "[<matplotlib.lines.Line2D at 0x7f9cfe308730>]"
      ]
     },
     "execution_count": 31,
     "metadata": {},
     "output_type": "execute_result"
    },
    {
     "data": {
      "image/png": "[encoded data removed]",
      "text/plain": [
       "<Figure size 720x360 with 1 Axes>"
      ]
     },
     "metadata": {},
     "output_type": "display_data"
    }
   ],
   "source": [
    "plt.figure(figsize=(10, 5))\n",
    "by_median = merged.sort_values(by='MedianHHIncome')\n",
    "by_mean = merged.sort_values(by='MeanHHIncome')\n",
    "plt.plot(by_median['MedianHHIncome'], by_median['count'])\n",
    "plt.plot(by_mean['MeanHHIncome'] - (61784.726000000002 - 46008.64904862579), by_mean['count'])"
   ]
  },
  {
   "cell_type": "code",
   "execution_count": 32,
   "metadata": {},
   "outputs": [
    {
     "data": {
      "text/plain": [
       "46008.64904862579"
      ]
     },
     "execution_count": 32,
     "metadata": {},
     "output_type": "execute_result"
    }
   ],
   "source": [
    "by_median['MedianHHIncome'].sum()/by_median['MedianHHIncome'].count()"
   ]
  },
  {
   "cell_type": "code",
   "execution_count": 33,
   "metadata": {},
   "outputs": [
    {
     "data": {
      "text/plain": [
       "<AxesSubplot:ylabel='Frequency'>"
      ]
     },
     "execution_count": 33,
     "metadata": {},
     "output_type": "execute_result"
    },
    {
     "data": {
      "image/png": "[encoded data removed]",
      "text/plain": [
       "<Figure size 432x288 with 1 Axes>"
      ]
     },
     "metadata": {},
     "output_type": "display_data"
    }
   ],
   "source": [
    "by_median['MedianHHIncome'].plot.hist()\n",
    "by_mean['MeanHHIncome'].plot.hist()"
   ]
  },
  {
   "cell_type": "code",
   "execution_count": 20,
   "metadata": {},
   "outputs": [
    {
     "ename": "AttributeError",
     "evalue": "module 'seaborn' has no attribute 'displot'",
     "output_type": "error",
     "traceback": [
      "\u001b[0;31m---------------------------------------------------------------------------\u001b[0m",
      "\u001b[0;31mAttributeError\u001b[0m                            Traceback (most recent call last)",
      "\u001b[0;32m<ipython-input-20-835391ab7212>\u001b[0m in \u001b[0;36m<module>\u001b[0;34m\u001b[0m\n\u001b[0;32m----> 1\u001b[0;31m \u001b[0msns\u001b[0m\u001b[0;34m.\u001b[0m\u001b[0mdisplot\u001b[0m\u001b[0;34m(\u001b[0m\u001b[0mmerged\u001b[0m\u001b[0;34m,\u001b[0m \u001b[0mx\u001b[0m\u001b[0;34m=\u001b[0m\u001b[0;34m[\u001b[0m\u001b[0;34m'MedianHHIncome'\u001b[0m\u001b[0;34m,\u001b[0m \u001b[0;34m'MeanHHIncome'\u001b[0m\u001b[0;34m]\u001b[0m\u001b[0;34m,\u001b[0m \u001b[0mhue\u001b[0m\u001b[0;34m=\u001b[0m\u001b[0;34m\"count\"\u001b[0m\u001b[0;34m)\u001b[0m\u001b[0;34m\u001b[0m\u001b[0;34m\u001b[0m\u001b[0m\n\u001b[0m",
      "\u001b[0;31mAttributeError\u001b[0m: module 'seaborn' has no attribute 'displot'"
     ]
    }
   ],
   "source": [
    "sns.displot(merged, x=['MedianHHIncome', 'MeanHHIncome'], hue=\"count\")"
   ]
  },
  {
   "cell_type": "code",
   "execution_count": null,
   "metadata": {},
   "outputs": [],
   "source": [
    "sns.__version__"
   ]
  },
  {
   "cell_type": "code",
   "execution_count": 34,
   "metadata": {},
   "outputs": [
    {
     "data": {
      "text/plain": [
       "Index(['IncomeBucket1', 'IncomeBucket2', 'IncomeBucket3', 'IncomeBucket4',\n",
       "       'IncomeBucket5', 'IncomeBucket6', 'IncomeBucket7', 'IncomeBucket8',\n",
       "       'IncomeBucket9', 'MedianHHIncome', 'MeanHHIncome', 'PercInsured',\n",
       "       'TotalPop', 'SexRatio', 'MedianAge', 'PercPopUnder18', 'PercPopOver65',\n",
       "       'PercWhite', 'PercBlack', 'PercAsian', 'PercLatino', 'HousingUnits',\n",
       "       'UnempRate', 'Pop', 'ZipArea', 'Density', 'BachelorsRate', 'count',\n",
       "       'amountPaidOnBuildingClaim', 'amountPaidOnContentsClaim'],\n",
       "      dtype='object')"
      ]
     },
     "execution_count": 34,
     "metadata": {},
     "output_type": "execute_result"
    }
   ],
   "source": [
    "merged.columns"
   ]
  },
  {
   "cell_type": "code",
   "execution_count": 35,
   "metadata": {},
   "outputs": [
    {
     "data": {
      "text/html": [
       "<div>\n",
       "<style scoped>\n",
       "    .dataframe tbody tr th:only-of-type {\n",
       "        vertical-align: middle;\n",
       "    }\n",
       "\n",
       "    .dataframe tbody tr th {\n",
       "        vertical-align: top;\n",
       "    }\n",
       "\n",
       "    .dataframe thead th {\n",
       "        text-align: right;\n",
       "    }\n",
       "</style>\n",
       "<table border=\"1\" class=\"dataframe\">\n",
       "  <thead>\n",
       "    <tr style=\"text-align: right;\">\n",
       "      <th></th>\n",
       "      <th>IncomeBucket1</th>\n",
       "      <th>IncomeBucket2</th>\n",
       "      <th>IncomeBucket3</th>\n",
       "      <th>IncomeBucket4</th>\n",
       "      <th>IncomeBucket5</th>\n",
       "      <th>IncomeBucket6</th>\n",
       "      <th>IncomeBucket7</th>\n",
       "      <th>IncomeBucket8</th>\n",
       "      <th>IncomeBucket9</th>\n",
       "      <th>MedianHHIncome</th>\n",
       "      <th>...</th>\n",
       "      <th>PercLatino</th>\n",
       "      <th>HousingUnits</th>\n",
       "      <th>UnempRate</th>\n",
       "      <th>Pop</th>\n",
       "      <th>ZipArea</th>\n",
       "      <th>Density</th>\n",
       "      <th>BachelorsRate</th>\n",
       "      <th>count</th>\n",
       "      <th>amountPaidOnBuildingClaim</th>\n",
       "      <th>amountPaidOnContentsClaim</th>\n",
       "    </tr>\n",
       "  </thead>\n",
       "  <tbody>\n",
       "    <tr>\n",
       "      <th>IncomeBucket1</th>\n",
       "      <td>1.000000</td>\n",
       "      <td>0.130957</td>\n",
       "      <td>0.072306</td>\n",
       "      <td>-0.043425</td>\n",
       "      <td>-0.150602</td>\n",
       "      <td>-0.387267</td>\n",
       "      <td>-0.283801</td>\n",
       "      <td>-0.365172</td>\n",
       "      <td>-0.246351</td>\n",
       "      <td>-0.655808</td>\n",
       "      <td>...</td>\n",
       "      <td>-0.129899</td>\n",
       "      <td>-0.086295</td>\n",
       "      <td>0.247649</td>\n",
       "      <td>-0.097221</td>\n",
       "      <td>-0.002353</td>\n",
       "      <td>0.042058</td>\n",
       "      <td>-0.137748</td>\n",
       "      <td>-0.024417</td>\n",
       "      <td>0.032126</td>\n",
       "      <td>0.010653</td>\n",
       "    </tr>\n",
       "    <tr>\n",
       "      <th>IncomeBucket2</th>\n",
       "      <td>0.130957</td>\n",
       "      <td>1.000000</td>\n",
       "      <td>0.011435</td>\n",
       "      <td>0.008981</td>\n",
       "      <td>-0.066184</td>\n",
       "      <td>-0.266539</td>\n",
       "      <td>-0.225609</td>\n",
       "      <td>-0.284736</td>\n",
       "      <td>-0.150074</td>\n",
       "      <td>-0.510394</td>\n",
       "      <td>...</td>\n",
       "      <td>-0.105095</td>\n",
       "      <td>-0.090287</td>\n",
       "      <td>0.180066</td>\n",
       "      <td>-0.096454</td>\n",
       "      <td>0.077434</td>\n",
       "      <td>-0.033872</td>\n",
       "      <td>-0.142375</td>\n",
       "      <td>-0.033779</td>\n",
       "      <td>0.001411</td>\n",
       "      <td>-0.015604</td>\n",
       "    </tr>\n",
       "    <tr>\n",
       "      <th>IncomeBucket3</th>\n",
       "      <td>0.072306</td>\n",
       "      <td>0.011435</td>\n",
       "      <td>1.000000</td>\n",
       "      <td>-0.019400</td>\n",
       "      <td>-0.095320</td>\n",
       "      <td>-0.109852</td>\n",
       "      <td>-0.268338</td>\n",
       "      <td>-0.272350</td>\n",
       "      <td>-0.302097</td>\n",
       "      <td>-0.591882</td>\n",
       "      <td>...</td>\n",
       "      <td>-0.080039</td>\n",
       "      <td>-0.105269</td>\n",
       "      <td>0.134372</td>\n",
       "      <td>-0.106515</td>\n",
       "      <td>0.058610</td>\n",
       "      <td>-0.042389</td>\n",
       "      <td>-0.172776</td>\n",
       "      <td>-0.059997</td>\n",
       "      <td>-0.030125</td>\n",
       "      <td>-0.035020</td>\n",
       "    </tr>\n",
       "    <tr>\n",
       "      <th>IncomeBucket4</th>\n",
       "      <td>-0.043425</td>\n",
       "      <td>0.008981</td>\n",
       "      <td>-0.019400</td>\n",
       "      <td>1.000000</td>\n",
       "      <td>-0.062877</td>\n",
       "      <td>-0.107967</td>\n",
       "      <td>-0.205004</td>\n",
       "      <td>-0.257969</td>\n",
       "      <td>-0.148402</td>\n",
       "      <td>-0.402332</td>\n",
       "      <td>...</td>\n",
       "      <td>0.030756</td>\n",
       "      <td>-0.042942</td>\n",
       "      <td>0.028004</td>\n",
       "      <td>-0.043631</td>\n",
       "      <td>0.032551</td>\n",
       "      <td>-0.037327</td>\n",
       "      <td>-0.099795</td>\n",
       "      <td>-0.026267</td>\n",
       "      <td>-0.020095</td>\n",
       "      <td>-0.023918</td>\n",
       "    </tr>\n",
       "    <tr>\n",
       "      <th>IncomeBucket5</th>\n",
       "      <td>-0.150602</td>\n",
       "      <td>-0.066184</td>\n",
       "      <td>-0.095320</td>\n",
       "      <td>-0.062877</td>\n",
       "      <td>1.000000</td>\n",
       "      <td>-0.140526</td>\n",
       "      <td>-0.101833</td>\n",
       "      <td>-0.104548</td>\n",
       "      <td>-0.172760</td>\n",
       "      <td>-0.117330</td>\n",
       "      <td>...</td>\n",
       "      <td>0.039463</td>\n",
       "      <td>-0.035070</td>\n",
       "      <td>0.052727</td>\n",
       "      <td>-0.032870</td>\n",
       "      <td>-0.019317</td>\n",
       "      <td>-0.034862</td>\n",
       "      <td>-0.060798</td>\n",
       "      <td>-0.017219</td>\n",
       "      <td>-0.019162</td>\n",
       "      <td>-0.013270</td>\n",
       "    </tr>\n",
       "    <tr>\n",
       "      <th>IncomeBucket6</th>\n",
       "      <td>-0.387267</td>\n",
       "      <td>-0.266539</td>\n",
       "      <td>-0.109852</td>\n",
       "      <td>-0.107967</td>\n",
       "      <td>-0.140526</td>\n",
       "      <td>1.000000</td>\n",
       "      <td>-0.049771</td>\n",
       "      <td>0.099447</td>\n",
       "      <td>-0.014598</td>\n",
       "      <td>0.331838</td>\n",
       "      <td>...</td>\n",
       "      <td>0.026034</td>\n",
       "      <td>0.039352</td>\n",
       "      <td>-0.176671</td>\n",
       "      <td>0.047632</td>\n",
       "      <td>0.006459</td>\n",
       "      <td>-0.005101</td>\n",
       "      <td>0.039808</td>\n",
       "      <td>0.019859</td>\n",
       "      <td>-0.039432</td>\n",
       "      <td>-0.020089</td>\n",
       "    </tr>\n",
       "    <tr>\n",
       "      <th>IncomeBucket7</th>\n",
       "      <td>-0.283801</td>\n",
       "      <td>-0.225609</td>\n",
       "      <td>-0.268338</td>\n",
       "      <td>-0.205004</td>\n",
       "      <td>-0.101833</td>\n",
       "      <td>-0.049771</td>\n",
       "      <td>1.000000</td>\n",
       "      <td>0.070979</td>\n",
       "      <td>0.055126</td>\n",
       "      <td>0.511084</td>\n",
       "      <td>...</td>\n",
       "      <td>0.154899</td>\n",
       "      <td>-0.004842</td>\n",
       "      <td>-0.228547</td>\n",
       "      <td>0.006468</td>\n",
       "      <td>-0.056405</td>\n",
       "      <td>-0.037754</td>\n",
       "      <td>0.031847</td>\n",
       "      <td>0.007651</td>\n",
       "      <td>-0.014916</td>\n",
       "      <td>0.008041</td>\n",
       "    </tr>\n",
       "    <tr>\n",
       "      <th>IncomeBucket8</th>\n",
       "      <td>-0.365172</td>\n",
       "      <td>-0.284736</td>\n",
       "      <td>-0.272350</td>\n",
       "      <td>-0.257969</td>\n",
       "      <td>-0.104548</td>\n",
       "      <td>0.099447</td>\n",
       "      <td>0.070979</td>\n",
       "      <td>1.000000</td>\n",
       "      <td>0.117563</td>\n",
       "      <td>0.666641</td>\n",
       "      <td>...</td>\n",
       "      <td>0.021647</td>\n",
       "      <td>0.124922</td>\n",
       "      <td>-0.072871</td>\n",
       "      <td>0.134402</td>\n",
       "      <td>0.008196</td>\n",
       "      <td>-0.008637</td>\n",
       "      <td>0.200655</td>\n",
       "      <td>0.034915</td>\n",
       "      <td>-0.018317</td>\n",
       "      <td>-0.002297</td>\n",
       "    </tr>\n",
       "    <tr>\n",
       "      <th>IncomeBucket9</th>\n",
       "      <td>-0.246351</td>\n",
       "      <td>-0.150074</td>\n",
       "      <td>-0.302097</td>\n",
       "      <td>-0.148402</td>\n",
       "      <td>-0.172760</td>\n",
       "      <td>-0.014598</td>\n",
       "      <td>0.055126</td>\n",
       "      <td>0.117563</td>\n",
       "      <td>1.000000</td>\n",
       "      <td>0.612179</td>\n",
       "      <td>...</td>\n",
       "      <td>0.023366</td>\n",
       "      <td>0.091445</td>\n",
       "      <td>-0.158500</td>\n",
       "      <td>0.092616</td>\n",
       "      <td>-0.064777</td>\n",
       "      <td>0.028551</td>\n",
       "      <td>0.161384</td>\n",
       "      <td>0.036844</td>\n",
       "      <td>0.023978</td>\n",
       "      <td>0.027462</td>\n",
       "    </tr>\n",
       "    <tr>\n",
       "      <th>MedianHHIncome</th>\n",
       "      <td>-0.655808</td>\n",
       "      <td>-0.510394</td>\n",
       "      <td>-0.591882</td>\n",
       "      <td>-0.402332</td>\n",
       "      <td>-0.117330</td>\n",
       "      <td>0.331838</td>\n",
       "      <td>0.511084</td>\n",
       "      <td>0.666641</td>\n",
       "      <td>0.612179</td>\n",
       "      <td>1.000000</td>\n",
       "      <td>...</td>\n",
       "      <td>0.112219</td>\n",
       "      <td>0.167846</td>\n",
       "      <td>-0.352104</td>\n",
       "      <td>0.178269</td>\n",
       "      <td>-0.150582</td>\n",
       "      <td>0.045947</td>\n",
       "      <td>0.339938</td>\n",
       "      <td>0.072173</td>\n",
       "      <td>0.009023</td>\n",
       "      <td>0.025291</td>\n",
       "    </tr>\n",
       "    <tr>\n",
       "      <th>MeanHHIncome</th>\n",
       "      <td>-0.557043</td>\n",
       "      <td>-0.402240</td>\n",
       "      <td>-0.492875</td>\n",
       "      <td>-0.249293</td>\n",
       "      <td>-0.150082</td>\n",
       "      <td>0.186542</td>\n",
       "      <td>0.318814</td>\n",
       "      <td>0.601913</td>\n",
       "      <td>0.616865</td>\n",
       "      <td>0.859443</td>\n",
       "      <td>...</td>\n",
       "      <td>0.141250</td>\n",
       "      <td>0.278960</td>\n",
       "      <td>-0.215595</td>\n",
       "      <td>0.272859</td>\n",
       "      <td>-0.095659</td>\n",
       "      <td>0.163661</td>\n",
       "      <td>0.471667</td>\n",
       "      <td>0.133527</td>\n",
       "      <td>0.067822</td>\n",
       "      <td>0.071312</td>\n",
       "    </tr>\n",
       "    <tr>\n",
       "      <th>PercInsured</th>\n",
       "      <td>-0.093290</td>\n",
       "      <td>-0.110773</td>\n",
       "      <td>-0.068606</td>\n",
       "      <td>-0.196095</td>\n",
       "      <td>0.085545</td>\n",
       "      <td>0.122501</td>\n",
       "      <td>0.019928</td>\n",
       "      <td>0.141261</td>\n",
       "      <td>-0.008425</td>\n",
       "      <td>0.329695</td>\n",
       "      <td>...</td>\n",
       "      <td>-0.078148</td>\n",
       "      <td>0.088479</td>\n",
       "      <td>-0.203452</td>\n",
       "      <td>0.090805</td>\n",
       "      <td>-0.047576</td>\n",
       "      <td>0.020292</td>\n",
       "      <td>0.148867</td>\n",
       "      <td>0.007088</td>\n",
       "      <td>0.007710</td>\n",
       "      <td>-0.004000</td>\n",
       "    </tr>\n",
       "    <tr>\n",
       "      <th>TotalPop</th>\n",
       "      <td>-0.106639</td>\n",
       "      <td>-0.105809</td>\n",
       "      <td>-0.118048</td>\n",
       "      <td>-0.052551</td>\n",
       "      <td>-0.035766</td>\n",
       "      <td>0.050281</td>\n",
       "      <td>0.013752</td>\n",
       "      <td>0.148018</td>\n",
       "      <td>0.104389</td>\n",
       "      <td>0.205690</td>\n",
       "      <td>...</td>\n",
       "      <td>0.302468</td>\n",
       "      <td>0.988887</td>\n",
       "      <td>-0.050551</td>\n",
       "      <td>0.994598</td>\n",
       "      <td>0.046464</td>\n",
       "      <td>0.328069</td>\n",
       "      <td>0.858223</td>\n",
       "      <td>0.457814</td>\n",
       "      <td>0.263020</td>\n",
       "      <td>0.256469</td>\n",
       "    </tr>\n",
       "    <tr>\n",
       "      <th>PercPopUnder18</th>\n",
       "      <td>0.151184</td>\n",
       "      <td>-0.121906</td>\n",
       "      <td>-0.069438</td>\n",
       "      <td>-0.036377</td>\n",
       "      <td>0.086971</td>\n",
       "      <td>0.024531</td>\n",
       "      <td>-0.049808</td>\n",
       "      <td>-0.064274</td>\n",
       "      <td>0.011958</td>\n",
       "      <td>-0.076608</td>\n",
       "      <td>...</td>\n",
       "      <td>-0.001101</td>\n",
       "      <td>-0.101353</td>\n",
       "      <td>-0.078857</td>\n",
       "      <td>-0.122227</td>\n",
       "      <td>-0.043232</td>\n",
       "      <td>0.237547</td>\n",
       "      <td>-0.022303</td>\n",
       "      <td>0.007390</td>\n",
       "      <td>0.017099</td>\n",
       "      <td>0.006814</td>\n",
       "    </tr>\n",
       "    <tr>\n",
       "      <th>PercPopOver65</th>\n",
       "      <td>0.173277</td>\n",
       "      <td>0.190336</td>\n",
       "      <td>0.111260</td>\n",
       "      <td>0.068124</td>\n",
       "      <td>0.045006</td>\n",
       "      <td>-0.047333</td>\n",
       "      <td>-0.162354</td>\n",
       "      <td>-0.229811</td>\n",
       "      <td>-0.150371</td>\n",
       "      <td>-0.234317</td>\n",
       "      <td>...</td>\n",
       "      <td>-0.122608</td>\n",
       "      <td>-0.172155</td>\n",
       "      <td>-0.156983</td>\n",
       "      <td>-0.184918</td>\n",
       "      <td>0.065510</td>\n",
       "      <td>-0.177175</td>\n",
       "      <td>-0.131484</td>\n",
       "      <td>-0.059027</td>\n",
       "      <td>-0.051811</td>\n",
       "      <td>-0.044446</td>\n",
       "    </tr>\n",
       "    <tr>\n",
       "      <th>PercWhite</th>\n",
       "      <td>-0.347794</td>\n",
       "      <td>-0.189413</td>\n",
       "      <td>-0.195888</td>\n",
       "      <td>-0.071094</td>\n",
       "      <td>-0.012387</td>\n",
       "      <td>0.164866</td>\n",
       "      <td>0.241918</td>\n",
       "      <td>0.282598</td>\n",
       "      <td>0.179568</td>\n",
       "      <td>0.456133</td>\n",
       "      <td>...</td>\n",
       "      <td>-0.012778</td>\n",
       "      <td>-0.168879</td>\n",
       "      <td>-0.318999</td>\n",
       "      <td>-0.175585</td>\n",
       "      <td>0.110351</td>\n",
       "      <td>-0.166927</td>\n",
       "      <td>-0.053615</td>\n",
       "      <td>-0.131659</td>\n",
       "      <td>-0.156795</td>\n",
       "      <td>-0.118291</td>\n",
       "    </tr>\n",
       "    <tr>\n",
       "      <th>PercBlack</th>\n",
       "      <td>0.365326</td>\n",
       "      <td>0.198411</td>\n",
       "      <td>0.181767</td>\n",
       "      <td>0.063199</td>\n",
       "      <td>0.007957</td>\n",
       "      <td>-0.174557</td>\n",
       "      <td>-0.250126</td>\n",
       "      <td>-0.280240</td>\n",
       "      <td>-0.166800</td>\n",
       "      <td>-0.449084</td>\n",
       "      <td>...</td>\n",
       "      <td>-0.077873</td>\n",
       "      <td>0.138535</td>\n",
       "      <td>0.336816</td>\n",
       "      <td>0.144471</td>\n",
       "      <td>-0.093513</td>\n",
       "      <td>0.141125</td>\n",
       "      <td>0.024685</td>\n",
       "      <td>0.094255</td>\n",
       "      <td>0.130111</td>\n",
       "      <td>0.086572</td>\n",
       "    </tr>\n",
       "    <tr>\n",
       "      <th>PercAsian</th>\n",
       "      <td>-0.052140</td>\n",
       "      <td>-0.031411</td>\n",
       "      <td>-0.039186</td>\n",
       "      <td>-0.050619</td>\n",
       "      <td>0.005437</td>\n",
       "      <td>0.009160</td>\n",
       "      <td>0.026875</td>\n",
       "      <td>0.067309</td>\n",
       "      <td>0.014792</td>\n",
       "      <td>0.072491</td>\n",
       "      <td>...</td>\n",
       "      <td>0.267670</td>\n",
       "      <td>0.298127</td>\n",
       "      <td>-0.022888</td>\n",
       "      <td>0.301257</td>\n",
       "      <td>-0.104022</td>\n",
       "      <td>0.230981</td>\n",
       "      <td>0.326711</td>\n",
       "      <td>0.304305</td>\n",
       "      <td>0.216216</td>\n",
       "      <td>0.234483</td>\n",
       "    </tr>\n",
       "    <tr>\n",
       "      <th>PercLatino</th>\n",
       "      <td>-0.129899</td>\n",
       "      <td>-0.105095</td>\n",
       "      <td>-0.080039</td>\n",
       "      <td>0.030756</td>\n",
       "      <td>0.039463</td>\n",
       "      <td>0.026034</td>\n",
       "      <td>0.154899</td>\n",
       "      <td>0.021647</td>\n",
       "      <td>0.023366</td>\n",
       "      <td>0.112219</td>\n",
       "      <td>...</td>\n",
       "      <td>1.000000</td>\n",
       "      <td>0.297341</td>\n",
       "      <td>-0.091367</td>\n",
       "      <td>0.300898</td>\n",
       "      <td>-0.110938</td>\n",
       "      <td>0.277078</td>\n",
       "      <td>0.284308</td>\n",
       "      <td>0.376908</td>\n",
       "      <td>0.261497</td>\n",
       "      <td>0.322188</td>\n",
       "    </tr>\n",
       "    <tr>\n",
       "      <th>HousingUnits</th>\n",
       "      <td>-0.086295</td>\n",
       "      <td>-0.090287</td>\n",
       "      <td>-0.105269</td>\n",
       "      <td>-0.042942</td>\n",
       "      <td>-0.035070</td>\n",
       "      <td>0.039352</td>\n",
       "      <td>-0.004842</td>\n",
       "      <td>0.124922</td>\n",
       "      <td>0.091445</td>\n",
       "      <td>0.167846</td>\n",
       "      <td>...</td>\n",
       "      <td>0.297341</td>\n",
       "      <td>1.000000</td>\n",
       "      <td>-0.041058</td>\n",
       "      <td>0.987326</td>\n",
       "      <td>0.052104</td>\n",
       "      <td>0.361351</td>\n",
       "      <td>0.875704</td>\n",
       "      <td>0.462837</td>\n",
       "      <td>0.270128</td>\n",
       "      <td>0.255826</td>\n",
       "    </tr>\n",
       "    <tr>\n",
       "      <th>UnempRate</th>\n",
       "      <td>0.247649</td>\n",
       "      <td>0.180066</td>\n",
       "      <td>0.134372</td>\n",
       "      <td>0.028004</td>\n",
       "      <td>0.052727</td>\n",
       "      <td>-0.176671</td>\n",
       "      <td>-0.228547</td>\n",
       "      <td>-0.072871</td>\n",
       "      <td>-0.158500</td>\n",
       "      <td>-0.352104</td>\n",
       "      <td>...</td>\n",
       "      <td>-0.091367</td>\n",
       "      <td>-0.041058</td>\n",
       "      <td>1.000000</td>\n",
       "      <td>-0.045494</td>\n",
       "      <td>0.005145</td>\n",
       "      <td>0.100929</td>\n",
       "      <td>-0.089951</td>\n",
       "      <td>0.007550</td>\n",
       "      <td>0.057714</td>\n",
       "      <td>0.040726</td>\n",
       "    </tr>\n",
       "    <tr>\n",
       "      <th>Pop</th>\n",
       "      <td>-0.097221</td>\n",
       "      <td>-0.096454</td>\n",
       "      <td>-0.106515</td>\n",
       "      <td>-0.043631</td>\n",
       "      <td>-0.032870</td>\n",
       "      <td>0.047632</td>\n",
       "      <td>0.006468</td>\n",
       "      <td>0.134402</td>\n",
       "      <td>0.092616</td>\n",
       "      <td>0.178269</td>\n",
       "      <td>...</td>\n",
       "      <td>0.300898</td>\n",
       "      <td>0.987326</td>\n",
       "      <td>-0.045494</td>\n",
       "      <td>1.000000</td>\n",
       "      <td>0.064831</td>\n",
       "      <td>0.324539</td>\n",
       "      <td>0.838198</td>\n",
       "      <td>0.434743</td>\n",
       "      <td>0.218558</td>\n",
       "      <td>0.214999</td>\n",
       "    </tr>\n",
       "    <tr>\n",
       "      <th>ZipArea</th>\n",
       "      <td>-0.002353</td>\n",
       "      <td>0.077434</td>\n",
       "      <td>0.058610</td>\n",
       "      <td>0.032551</td>\n",
       "      <td>-0.019317</td>\n",
       "      <td>0.006459</td>\n",
       "      <td>-0.056405</td>\n",
       "      <td>0.008196</td>\n",
       "      <td>-0.064777</td>\n",
       "      <td>-0.150582</td>\n",
       "      <td>...</td>\n",
       "      <td>-0.110938</td>\n",
       "      <td>0.052104</td>\n",
       "      <td>0.005145</td>\n",
       "      <td>0.064831</td>\n",
       "      <td>1.000000</td>\n",
       "      <td>-0.269110</td>\n",
       "      <td>-0.091501</td>\n",
       "      <td>-0.175186</td>\n",
       "      <td>-0.178314</td>\n",
       "      <td>-0.181842</td>\n",
       "    </tr>\n",
       "    <tr>\n",
       "      <th>Density</th>\n",
       "      <td>0.042058</td>\n",
       "      <td>-0.033872</td>\n",
       "      <td>-0.042389</td>\n",
       "      <td>-0.037327</td>\n",
       "      <td>-0.034862</td>\n",
       "      <td>-0.005101</td>\n",
       "      <td>-0.037754</td>\n",
       "      <td>-0.008637</td>\n",
       "      <td>0.028551</td>\n",
       "      <td>0.045947</td>\n",
       "      <td>...</td>\n",
       "      <td>0.277078</td>\n",
       "      <td>0.361351</td>\n",
       "      <td>0.100929</td>\n",
       "      <td>0.324539</td>\n",
       "      <td>-0.269110</td>\n",
       "      <td>1.000000</td>\n",
       "      <td>0.418774</td>\n",
       "      <td>0.474352</td>\n",
       "      <td>0.455941</td>\n",
       "      <td>0.441089</td>\n",
       "    </tr>\n",
       "    <tr>\n",
       "      <th>BachelorsRate</th>\n",
       "      <td>-0.137748</td>\n",
       "      <td>-0.142375</td>\n",
       "      <td>-0.172776</td>\n",
       "      <td>-0.099795</td>\n",
       "      <td>-0.060798</td>\n",
       "      <td>0.039808</td>\n",
       "      <td>0.031847</td>\n",
       "      <td>0.200655</td>\n",
       "      <td>0.161384</td>\n",
       "      <td>0.339938</td>\n",
       "      <td>...</td>\n",
       "      <td>0.284308</td>\n",
       "      <td>0.875704</td>\n",
       "      <td>-0.089951</td>\n",
       "      <td>0.838198</td>\n",
       "      <td>-0.091501</td>\n",
       "      <td>0.418774</td>\n",
       "      <td>1.000000</td>\n",
       "      <td>0.475208</td>\n",
       "      <td>0.307817</td>\n",
       "      <td>0.285536</td>\n",
       "    </tr>\n",
       "    <tr>\n",
       "      <th>count</th>\n",
       "      <td>-0.024417</td>\n",
       "      <td>-0.033779</td>\n",
       "      <td>-0.059997</td>\n",
       "      <td>-0.026267</td>\n",
       "      <td>-0.017219</td>\n",
       "      <td>0.019859</td>\n",
       "      <td>0.007651</td>\n",
       "      <td>0.034915</td>\n",
       "      <td>0.036844</td>\n",
       "      <td>0.072173</td>\n",
       "      <td>...</td>\n",
       "      <td>0.376908</td>\n",
       "      <td>0.462837</td>\n",
       "      <td>0.007550</td>\n",
       "      <td>0.434743</td>\n",
       "      <td>-0.175186</td>\n",
       "      <td>0.474352</td>\n",
       "      <td>0.475208</td>\n",
       "      <td>1.000000</td>\n",
       "      <td>0.872631</td>\n",
       "      <td>0.875264</td>\n",
       "    </tr>\n",
       "    <tr>\n",
       "      <th>amountPaidOnBuildingClaim</th>\n",
       "      <td>0.032126</td>\n",
       "      <td>0.001411</td>\n",
       "      <td>-0.030125</td>\n",
       "      <td>-0.020095</td>\n",
       "      <td>-0.019162</td>\n",
       "      <td>-0.039432</td>\n",
       "      <td>-0.014916</td>\n",
       "      <td>-0.018317</td>\n",
       "      <td>0.023978</td>\n",
       "      <td>0.009023</td>\n",
       "      <td>...</td>\n",
       "      <td>0.261497</td>\n",
       "      <td>0.270128</td>\n",
       "      <td>0.057714</td>\n",
       "      <td>0.218558</td>\n",
       "      <td>-0.178314</td>\n",
       "      <td>0.455941</td>\n",
       "      <td>0.307817</td>\n",
       "      <td>0.872631</td>\n",
       "      <td>1.000000</td>\n",
       "      <td>0.976987</td>\n",
       "    </tr>\n",
       "    <tr>\n",
       "      <th>amountPaidOnContentsClaim</th>\n",
       "      <td>0.010653</td>\n",
       "      <td>-0.015604</td>\n",
       "      <td>-0.035020</td>\n",
       "      <td>-0.023918</td>\n",
       "      <td>-0.013270</td>\n",
       "      <td>-0.020089</td>\n",
       "      <td>0.008041</td>\n",
       "      <td>-0.002297</td>\n",
       "      <td>0.027462</td>\n",
       "      <td>0.025291</td>\n",
       "      <td>...</td>\n",
       "      <td>0.322188</td>\n",
       "      <td>0.255826</td>\n",
       "      <td>0.040726</td>\n",
       "      <td>0.214999</td>\n",
       "      <td>-0.181842</td>\n",
       "      <td>0.441089</td>\n",
       "      <td>0.285536</td>\n",
       "      <td>0.875264</td>\n",
       "      <td>0.976987</td>\n",
       "      <td>1.000000</td>\n",
       "    </tr>\n",
       "  </tbody>\n",
       "</table>\n",
       "<p>28 rows × 28 columns</p>\n",
       "</div>"
      ],
      "text/plain": [
       "                           IncomeBucket1  IncomeBucket2  IncomeBucket3  \\\n",
       "IncomeBucket1                   1.000000       0.130957       0.072306   \n",
       "IncomeBucket2                   0.130957       1.000000       0.011435   \n",
       "IncomeBucket3                   0.072306       0.011435       1.000000   \n",
       "IncomeBucket4                  -0.043425       0.008981      -0.019400   \n",
       "IncomeBucket5                  -0.150602      -0.066184      -0.095320   \n",
       "IncomeBucket6                  -0.387267      -0.266539      -0.109852   \n",
       "IncomeBucket7                  -0.283801      -0.225609      -0.268338   \n",
       "IncomeBucket8                  -0.365172      -0.284736      -0.272350   \n",
       "IncomeBucket9                  -0.246351      -0.150074      -0.302097   \n",
       "MedianHHIncome                 -0.655808      -0.510394      -0.591882   \n",
       "MeanHHIncome                   -0.557043      -0.402240      -0.492875   \n",
       "PercInsured                    -0.093290      -0.110773      -0.068606   \n",
       "TotalPop                       -0.106639      -0.105809      -0.118048   \n",
       "PercPopUnder18                  0.151184      -0.121906      -0.069438   \n",
       "PercPopOver65                   0.173277       0.190336       0.111260   \n",
       "PercWhite                      -0.347794      -0.189413      -0.195888   \n",
       "PercBlack                       0.365326       0.198411       0.181767   \n",
       "PercAsian                      -0.052140      -0.031411      -0.039186   \n",
       "PercLatino                     -0.129899      -0.105095      -0.080039   \n",
       "HousingUnits                   -0.086295      -0.090287      -0.105269   \n",
       "UnempRate                       0.247649       0.180066       0.134372   \n",
       "Pop                            -0.097221      -0.096454      -0.106515   \n",
       "ZipArea                        -0.002353       0.077434       0.058610   \n",
       "Density                         0.042058      -0.033872      -0.042389   \n",
       "BachelorsRate                  -0.137748      -0.142375      -0.172776   \n",
       "count                          -0.024417      -0.033779      -0.059997   \n",
       "amountPaidOnBuildingClaim       0.032126       0.001411      -0.030125   \n",
       "amountPaidOnContentsClaim       0.010653      -0.015604      -0.035020   \n",
       "\n",
       "                           IncomeBucket4  IncomeBucket5  IncomeBucket6  \\\n",
       "IncomeBucket1                  -0.043425      -0.150602      -0.387267   \n",
       "IncomeBucket2                   0.008981      -0.066184      -0.266539   \n",
       "IncomeBucket3                  -0.019400      -0.095320      -0.109852   \n",
       "IncomeBucket4                   1.000000      -0.062877      -0.107967   \n",
       "IncomeBucket5                  -0.062877       1.000000      -0.140526   \n",
       "IncomeBucket6                  -0.107967      -0.140526       1.000000   \n",
       "IncomeBucket7                  -0.205004      -0.101833      -0.049771   \n",
       "IncomeBucket8                  -0.257969      -0.104548       0.099447   \n",
       "IncomeBucket9                  -0.148402      -0.172760      -0.014598   \n",
       "MedianHHIncome                 -0.402332      -0.117330       0.331838   \n",
       "MeanHHIncome                   -0.249293      -0.150082       0.186542   \n",
       "PercInsured                    -0.196095       0.085545       0.122501   \n",
       "TotalPop                       -0.052551      -0.035766       0.050281   \n",
       "PercPopUnder18                 -0.036377       0.086971       0.024531   \n",
       "PercPopOver65                   0.068124       0.045006      -0.047333   \n",
       "PercWhite                      -0.071094      -0.012387       0.164866   \n",
       "PercBlack                       0.063199       0.007957      -0.174557   \n",
       "PercAsian                      -0.050619       0.005437       0.009160   \n",
       "PercLatino                      0.030756       0.039463       0.026034   \n",
       "HousingUnits                   -0.042942      -0.035070       0.039352   \n",
       "UnempRate                       0.028004       0.052727      -0.176671   \n",
       "Pop                            -0.043631      -0.032870       0.047632   \n",
       "ZipArea                         0.032551      -0.019317       0.006459   \n",
       "Density                        -0.037327      -0.034862      -0.005101   \n",
       "BachelorsRate                  -0.099795      -0.060798       0.039808   \n",
       "count                          -0.026267      -0.017219       0.019859   \n",
       "amountPaidOnBuildingClaim      -0.020095      -0.019162      -0.039432   \n",
       "amountPaidOnContentsClaim      -0.023918      -0.013270      -0.020089   \n",
       "\n",
       "                           IncomeBucket7  IncomeBucket8  IncomeBucket9  \\\n",
       "IncomeBucket1                  -0.283801      -0.365172      -0.246351   \n",
       "IncomeBucket2                  -0.225609      -0.284736      -0.150074   \n",
       "IncomeBucket3                  -0.268338      -0.272350      -0.302097   \n",
       "IncomeBucket4                  -0.205004      -0.257969      -0.148402   \n",
       "IncomeBucket5                  -0.101833      -0.104548      -0.172760   \n",
       "IncomeBucket6                  -0.049771       0.099447      -0.014598   \n",
       "IncomeBucket7                   1.000000       0.070979       0.055126   \n",
       "IncomeBucket8                   0.070979       1.000000       0.117563   \n",
       "IncomeBucket9                   0.055126       0.117563       1.000000   \n",
       "MedianHHIncome                  0.511084       0.666641       0.612179   \n",
       "MeanHHIncome                    0.318814       0.601913       0.616865   \n",
       "PercInsured                     0.019928       0.141261      -0.008425   \n",
       "TotalPop                        0.013752       0.148018       0.104389   \n",
       "PercPopUnder18                 -0.049808      -0.064274       0.011958   \n",
       "PercPopOver65                  -0.162354      -0.229811      -0.150371   \n",
       "PercWhite                       0.241918       0.282598       0.179568   \n",
       "PercBlack                      -0.250126      -0.280240      -0.166800   \n",
       "PercAsian                       0.026875       0.067309       0.014792   \n",
       "PercLatino                      0.154899       0.021647       0.023366   \n",
       "HousingUnits                   -0.004842       0.124922       0.091445   \n",
       "UnempRate                      -0.228547      -0.072871      -0.158500   \n",
       "Pop                             0.006468       0.134402       0.092616   \n",
       "ZipArea                        -0.056405       0.008196      -0.064777   \n",
       "Density                        -0.037754      -0.008637       0.028551   \n",
       "BachelorsRate                   0.031847       0.200655       0.161384   \n",
       "count                           0.007651       0.034915       0.036844   \n",
       "amountPaidOnBuildingClaim      -0.014916      -0.018317       0.023978   \n",
       "amountPaidOnContentsClaim       0.008041      -0.002297       0.027462   \n",
       "\n",
       "                           MedianHHIncome  ...  PercLatino  HousingUnits  \\\n",
       "IncomeBucket1                   -0.655808  ...   -0.129899     -0.086295   \n",
       "IncomeBucket2                   -0.510394  ...   -0.105095     -0.090287   \n",
       "IncomeBucket3                   -0.591882  ...   -0.080039     -0.105269   \n",
       "IncomeBucket4                   -0.402332  ...    0.030756     -0.042942   \n",
       "IncomeBucket5                   -0.117330  ...    0.039463     -0.035070   \n",
       "IncomeBucket6                    0.331838  ...    0.026034      0.039352   \n",
       "IncomeBucket7                    0.511084  ...    0.154899     -0.004842   \n",
       "IncomeBucket8                    0.666641  ...    0.021647      0.124922   \n",
       "IncomeBucket9                    0.612179  ...    0.023366      0.091445   \n",
       "MedianHHIncome                   1.000000  ...    0.112219      0.167846   \n",
       "MeanHHIncome                     0.859443  ...    0.141250      0.278960   \n",
       "PercInsured                      0.329695  ...   -0.078148      0.088479   \n",
       "TotalPop                         0.205690  ...    0.302468      0.988887   \n",
       "PercPopUnder18                  -0.076608  ...   -0.001101     -0.101353   \n",
       "PercPopOver65                   -0.234317  ...   -0.122608     -0.172155   \n",
       "PercWhite                        0.456133  ...   -0.012778     -0.168879   \n",
       "PercBlack                       -0.449084  ...   -0.077873      0.138535   \n",
       "PercAsian                        0.072491  ...    0.267670      0.298127   \n",
       "PercLatino                       0.112219  ...    1.000000      0.297341   \n",
       "HousingUnits                     0.167846  ...    0.297341      1.000000   \n",
       "UnempRate                       -0.352104  ...   -0.091367     -0.041058   \n",
       "Pop                              0.178269  ...    0.300898      0.987326   \n",
       "ZipArea                         -0.150582  ...   -0.110938      0.052104   \n",
       "Density                          0.045947  ...    0.277078      0.361351   \n",
       "BachelorsRate                    0.339938  ...    0.284308      0.875704   \n",
       "count                            0.072173  ...    0.376908      0.462837   \n",
       "amountPaidOnBuildingClaim        0.009023  ...    0.261497      0.270128   \n",
       "amountPaidOnContentsClaim        0.025291  ...    0.322188      0.255826   \n",
       "\n",
       "                           UnempRate       Pop   ZipArea   Density  \\\n",
       "IncomeBucket1               0.247649 -0.097221 -0.002353  0.042058   \n",
       "IncomeBucket2               0.180066 -0.096454  0.077434 -0.033872   \n",
       "IncomeBucket3               0.134372 -0.106515  0.058610 -0.042389   \n",
       "IncomeBucket4               0.028004 -0.043631  0.032551 -0.037327   \n",
       "IncomeBucket5               0.052727 -0.032870 -0.019317 -0.034862   \n",
       "IncomeBucket6              -0.176671  0.047632  0.006459 -0.005101   \n",
       "IncomeBucket7              -0.228547  0.006468 -0.056405 -0.037754   \n",
       "IncomeBucket8              -0.072871  0.134402  0.008196 -0.008637   \n",
       "IncomeBucket9              -0.158500  0.092616 -0.064777  0.028551   \n",
       "MedianHHIncome             -0.352104  0.178269 -0.150582  0.045947   \n",
       "MeanHHIncome               -0.215595  0.272859 -0.095659  0.163661   \n",
       "PercInsured                -0.203452  0.090805 -0.047576  0.020292   \n",
       "TotalPop                   -0.050551  0.994598  0.046464  0.328069   \n",
       "PercPopUnder18             -0.078857 -0.122227 -0.043232  0.237547   \n",
       "PercPopOver65              -0.156983 -0.184918  0.065510 -0.177175   \n",
       "PercWhite                  -0.318999 -0.175585  0.110351 -0.166927   \n",
       "PercBlack                   0.336816  0.144471 -0.093513  0.141125   \n",
       "PercAsian                  -0.022888  0.301257 -0.104022  0.230981   \n",
       "PercLatino                 -0.091367  0.300898 -0.110938  0.277078   \n",
       "HousingUnits               -0.041058  0.987326  0.052104  0.361351   \n",
       "UnempRate                   1.000000 -0.045494  0.005145  0.100929   \n",
       "Pop                        -0.045494  1.000000  0.064831  0.324539   \n",
       "ZipArea                     0.005145  0.064831  1.000000 -0.269110   \n",
       "Density                     0.100929  0.324539 -0.269110  1.000000   \n",
       "BachelorsRate              -0.089951  0.838198 -0.091501  0.418774   \n",
       "count                       0.007550  0.434743 -0.175186  0.474352   \n",
       "amountPaidOnBuildingClaim   0.057714  0.218558 -0.178314  0.455941   \n",
       "amountPaidOnContentsClaim   0.040726  0.214999 -0.181842  0.441089   \n",
       "\n",
       "                           BachelorsRate     count  amountPaidOnBuildingClaim  \\\n",
       "IncomeBucket1                  -0.137748 -0.024417                   0.032126   \n",
       "IncomeBucket2                  -0.142375 -0.033779                   0.001411   \n",
       "IncomeBucket3                  -0.172776 -0.059997                  -0.030125   \n",
       "IncomeBucket4                  -0.099795 -0.026267                  -0.020095   \n",
       "IncomeBucket5                  -0.060798 -0.017219                  -0.019162   \n",
       "IncomeBucket6                   0.039808  0.019859                  -0.039432   \n",
       "IncomeBucket7                   0.031847  0.007651                  -0.014916   \n",
       "IncomeBucket8                   0.200655  0.034915                  -0.018317   \n",
       "IncomeBucket9                   0.161384  0.036844                   0.023978   \n",
       "MedianHHIncome                  0.339938  0.072173                   0.009023   \n",
       "MeanHHIncome                    0.471667  0.133527                   0.067822   \n",
       "PercInsured                     0.148867  0.007088                   0.007710   \n",
       "TotalPop                        0.858223  0.457814                   0.263020   \n",
       "PercPopUnder18                 -0.022303  0.007390                   0.017099   \n",
       "PercPopOver65                  -0.131484 -0.059027                  -0.051811   \n",
       "PercWhite                      -0.053615 -0.131659                  -0.156795   \n",
       "PercBlack                       0.024685  0.094255                   0.130111   \n",
       "PercAsian                       0.326711  0.304305                   0.216216   \n",
       "PercLatino                      0.284308  0.376908                   0.261497   \n",
       "HousingUnits                    0.875704  0.462837                   0.270128   \n",
       "UnempRate                      -0.089951  0.007550                   0.057714   \n",
       "Pop                             0.838198  0.434743                   0.218558   \n",
       "ZipArea                        -0.091501 -0.175186                  -0.178314   \n",
       "Density                         0.418774  0.474352                   0.455941   \n",
       "BachelorsRate                   1.000000  0.475208                   0.307817   \n",
       "count                           0.475208  1.000000                   0.872631   \n",
       "amountPaidOnBuildingClaim       0.307817  0.872631                   1.000000   \n",
       "amountPaidOnContentsClaim       0.285536  0.875264                   0.976987   \n",
       "\n",
       "                           amountPaidOnContentsClaim  \n",
       "IncomeBucket1                               0.010653  \n",
       "IncomeBucket2                              -0.015604  \n",
       "IncomeBucket3                              -0.035020  \n",
       "IncomeBucket4                              -0.023918  \n",
       "IncomeBucket5                              -0.013270  \n",
       "IncomeBucket6                              -0.020089  \n",
       "IncomeBucket7                               0.008041  \n",
       "IncomeBucket8                              -0.002297  \n",
       "IncomeBucket9                               0.027462  \n",
       "MedianHHIncome                              0.025291  \n",
       "MeanHHIncome                                0.071312  \n",
       "PercInsured                                -0.004000  \n",
       "TotalPop                                    0.256469  \n",
       "PercPopUnder18                              0.006814  \n",
       "PercPopOver65                              -0.044446  \n",
       "PercWhite                                  -0.118291  \n",
       "PercBlack                                   0.086572  \n",
       "PercAsian                                   0.234483  \n",
       "PercLatino                                  0.322188  \n",
       "HousingUnits                                0.255826  \n",
       "UnempRate                                   0.040726  \n",
       "Pop                                         0.214999  \n",
       "ZipArea                                    -0.181842  \n",
       "Density                                     0.441089  \n",
       "BachelorsRate                               0.285536  \n",
       "count                                       0.875264  \n",
       "amountPaidOnBuildingClaim                   0.976987  \n",
       "amountPaidOnContentsClaim                   1.000000  \n",
       "\n",
       "[28 rows x 28 columns]"
      ]
     },
     "execution_count": 35,
     "metadata": {},
     "output_type": "execute_result"
    }
   ],
   "source": [
    "merged.corr() #include weighted amount of nfip claim amounts, meaning of filing for claim"
   ]
  },
  {
   "cell_type": "markdown",
   "metadata": {},
   "source": [
    "## Tract Data + NFHL Risk Factors"
   ]
  },
  {
   "cell_type": "code",
   "execution_count": 41,
   "metadata": {},
   "outputs": [],
   "source": [
    "nfhl_to_zip = pd.read_csv('nfhl_to_zip.csv')"
   ]
  },
  {
   "cell_type": "code",
   "execution_count": 43,
   "metadata": {},
   "outputs": [
    {
     "data": {
      "text/html": [
       "<div>\n",
       "<style scoped>\n",
       "    .dataframe tbody tr th:only-of-type {\n",
       "        vertical-align: middle;\n",
       "    }\n",
       "\n",
       "    .dataframe tbody tr th {\n",
       "        vertical-align: top;\n",
       "    }\n",
       "\n",
       "    .dataframe thead th {\n",
       "        text-align: right;\n",
       "    }\n",
       "</style>\n",
       "<table border=\"1\" class=\"dataframe\">\n",
       "  <thead>\n",
       "    <tr style=\"text-align: right;\">\n",
       "      <th></th>\n",
       "      <th>FLD_ZONE</th>\n",
       "      <th>ZONE_SUBTY</th>\n",
       "      <th>SFHA_TF</th>\n",
       "      <th>SHAPE_Area</th>\n",
       "      <th>GEOID</th>\n",
       "      <th>Tract</th>\n",
       "      <th>RISK</th>\n",
       "    </tr>\n",
       "  </thead>\n",
       "  <tbody>\n",
       "    <tr>\n",
       "      <th>0</th>\n",
       "      <td>X</td>\n",
       "      <td>AREA OF MINIMAL FLOOD HAZARD</td>\n",
       "      <td>F</td>\n",
       "      <td>1.789667e-07</td>\n",
       "      <td>2.200196e+10</td>\n",
       "      <td>9601.0</td>\n",
       "      <td>moderate_to_low</td>\n",
       "    </tr>\n",
       "    <tr>\n",
       "      <th>1</th>\n",
       "      <td>AE</td>\n",
       "      <td>NaN</td>\n",
       "      <td>T</td>\n",
       "      <td>4.082684e-05</td>\n",
       "      <td>2.200196e+10</td>\n",
       "      <td>9601.0</td>\n",
       "      <td>high</td>\n",
       "    </tr>\n",
       "    <tr>\n",
       "      <th>2</th>\n",
       "      <td>AE</td>\n",
       "      <td>NaN</td>\n",
       "      <td>T</td>\n",
       "      <td>5.973499e-05</td>\n",
       "      <td>2.200196e+10</td>\n",
       "      <td>9601.0</td>\n",
       "      <td>high</td>\n",
       "    </tr>\n",
       "    <tr>\n",
       "      <th>3</th>\n",
       "      <td>A</td>\n",
       "      <td>NaN</td>\n",
       "      <td>T</td>\n",
       "      <td>3.987519e-04</td>\n",
       "      <td>2.200196e+10</td>\n",
       "      <td>9601.0</td>\n",
       "      <td>high</td>\n",
       "    </tr>\n",
       "    <tr>\n",
       "      <th>4</th>\n",
       "      <td>AE</td>\n",
       "      <td>FLOODWAY</td>\n",
       "      <td>T</td>\n",
       "      <td>3.696726e-05</td>\n",
       "      <td>2.200196e+10</td>\n",
       "      <td>9601.0</td>\n",
       "      <td>high</td>\n",
       "    </tr>\n",
       "  </tbody>\n",
       "</table>\n",
       "</div>"
      ],
      "text/plain": [
       "  FLD_ZONE                    ZONE_SUBTY SFHA_TF    SHAPE_Area         GEOID  \\\n",
       "0        X  AREA OF MINIMAL FLOOD HAZARD       F  1.789667e-07  2.200196e+10   \n",
       "1       AE                           NaN       T  4.082684e-05  2.200196e+10   \n",
       "2       AE                           NaN       T  5.973499e-05  2.200196e+10   \n",
       "3        A                           NaN       T  3.987519e-04  2.200196e+10   \n",
       "4       AE                      FLOODWAY       T  3.696726e-05  2.200196e+10   \n",
       "\n",
       "    Tract             RISK  \n",
       "0  9601.0  moderate_to_low  \n",
       "1  9601.0             high  \n",
       "2  9601.0             high  \n",
       "3  9601.0             high  \n",
       "4  9601.0             high  "
      ]
     },
     "execution_count": 43,
     "metadata": {},
     "output_type": "execute_result"
    }
   ],
   "source": [
    "nfhl_to_zip.head()"
   ]
  },
  {
   "cell_type": "code",
   "execution_count": 135,
   "metadata": {},
   "outputs": [
    {
     "data": {
      "text/html": [
       "<div>\n",
       "<style scoped>\n",
       "    .dataframe tbody tr th:only-of-type {\n",
       "        vertical-align: middle;\n",
       "    }\n",
       "\n",
       "    .dataframe tbody tr th {\n",
       "        vertical-align: top;\n",
       "    }\n",
       "\n",
       "    .dataframe thead th {\n",
       "        text-align: right;\n",
       "    }\n",
       "</style>\n",
       "<table border=\"1\" class=\"dataframe\">\n",
       "  <thead>\n",
       "    <tr style=\"text-align: right;\">\n",
       "      <th></th>\n",
       "      <th>FLD_ZONE</th>\n",
       "      <th>ZONE_SUBTY</th>\n",
       "      <th>SFHA_TF</th>\n",
       "      <th>SHAPE_Area</th>\n",
       "      <th>GEOID</th>\n",
       "      <th>Tract</th>\n",
       "      <th>RISK</th>\n",
       "      <th>SHAPE_Proportional_Area</th>\n",
       "    </tr>\n",
       "  </thead>\n",
       "  <tbody>\n",
       "    <tr>\n",
       "      <th>0</th>\n",
       "      <td>X</td>\n",
       "      <td>AREA OF MINIMAL FLOOD HAZARD</td>\n",
       "      <td>F</td>\n",
       "      <td>1.789667e-07</td>\n",
       "      <td>2.200196e+10</td>\n",
       "      <td>9601.0</td>\n",
       "      <td>moderate_to_low</td>\n",
       "      <td>4.672137e-07</td>\n",
       "    </tr>\n",
       "    <tr>\n",
       "      <th>1</th>\n",
       "      <td>AE</td>\n",
       "      <td>NaN</td>\n",
       "      <td>T</td>\n",
       "      <td>4.082684e-05</td>\n",
       "      <td>2.200196e+10</td>\n",
       "      <td>9601.0</td>\n",
       "      <td>high</td>\n",
       "      <td>1.065833e-04</td>\n",
       "    </tr>\n",
       "    <tr>\n",
       "      <th>2</th>\n",
       "      <td>AE</td>\n",
       "      <td>NaN</td>\n",
       "      <td>T</td>\n",
       "      <td>5.973499e-05</td>\n",
       "      <td>2.200196e+10</td>\n",
       "      <td>9601.0</td>\n",
       "      <td>high</td>\n",
       "      <td>1.559453e-04</td>\n",
       "    </tr>\n",
       "    <tr>\n",
       "      <th>3</th>\n",
       "      <td>A</td>\n",
       "      <td>NaN</td>\n",
       "      <td>T</td>\n",
       "      <td>3.987519e-04</td>\n",
       "      <td>2.200196e+10</td>\n",
       "      <td>9601.0</td>\n",
       "      <td>high</td>\n",
       "      <td>1.040989e-03</td>\n",
       "    </tr>\n",
       "    <tr>\n",
       "      <th>4</th>\n",
       "      <td>AE</td>\n",
       "      <td>FLOODWAY</td>\n",
       "      <td>T</td>\n",
       "      <td>3.696726e-05</td>\n",
       "      <td>2.200196e+10</td>\n",
       "      <td>9601.0</td>\n",
       "      <td>high</td>\n",
       "      <td>9.650740e-05</td>\n",
       "    </tr>\n",
       "  </tbody>\n",
       "</table>\n",
       "</div>"
      ],
      "text/plain": [
       "  FLD_ZONE                    ZONE_SUBTY SFHA_TF    SHAPE_Area         GEOID  \\\n",
       "0        X  AREA OF MINIMAL FLOOD HAZARD       F  1.789667e-07  2.200196e+10   \n",
       "1       AE                           NaN       T  4.082684e-05  2.200196e+10   \n",
       "2       AE                           NaN       T  5.973499e-05  2.200196e+10   \n",
       "3        A                           NaN       T  3.987519e-04  2.200196e+10   \n",
       "4       AE                      FLOODWAY       T  3.696726e-05  2.200196e+10   \n",
       "\n",
       "    Tract             RISK  SHAPE_Proportional_Area  \n",
       "0  9601.0  moderate_to_low             4.672137e-07  \n",
       "1  9601.0             high             1.065833e-04  \n",
       "2  9601.0             high             1.559453e-04  \n",
       "3  9601.0             high             1.040989e-03  \n",
       "4  9601.0             high             9.650740e-05  "
      ]
     },
     "execution_count": 135,
     "metadata": {},
     "output_type": "execute_result"
    }
   ],
   "source": [
    "nfhl_cleaned = nfhl_to_zip[~(nfhl_to_zip['RISK'].isna()) & \\\n",
    "    ~(nfhl_to_zip['RISK']=='undetermined') &  ~(nfhl_to_zip['Tract'].isna())]\n",
    "area_totals = nfhl_cleaned.groupby(['Tract']).sum()\n",
    "area_merged = nfhl_cleaned.merge(area_totals, on=\"Tract\", how=\"left\", suffixes=('', '_r'))\n",
    "area_merged = area_merged.rename(columns={'SHAPE_Area_r':'SHAPE_Area_TOTAL'}).drop(['GEOID_r'], axis=1)\n",
    "area_merged['SHAPE_Proportional_Area'] = area_merged['SHAPE_Area'] / area_merged['SHAPE_Area_TOTAL']\n",
    "area_merged = area_merged.drop(['SHAPE_Area_TOTAL'], axis=1)\n",
    "area_merged.head()"
   ]
  },
  {
   "cell_type": "code",
   "execution_count": 81,
   "metadata": {},
   "outputs": [
    {
     "data": {
      "text/plain": [
       "array([ 1.,  1.,  1.,  1.,  1.,  1.,  1.,  1.,  1.,  1.,  1.,  1.,  1.,\n",
       "        1.,  1.,  1.,  1.,  1.,  1.,  1.,  1.,  1.,  1.,  1.,  1.,  1.,\n",
       "        1.,  1.,  1.,  1.,  1.,  1.,  1.])"
      ]
     },
     "execution_count": 81,
     "metadata": {},
     "output_type": "execute_result"
    }
   ],
   "source": [
    "#verification that area weighting went correctly\n",
    "area_merged.groupby(['Tract']).sum()['SHAPE_Proportional_Area'].unique()"
   ]
  },
  {
   "cell_type": "markdown",
   "metadata": {},
   "source": [
    "### Weighting of NFHL Risk Data"
   ]
  },
  {
   "cell_type": "code",
   "execution_count": 154,
   "metadata": {},
   "outputs": [],
   "source": [
    "pd.set_option('display.float_format', lambda x: '%.5f' % x)"
   ]
  },
  {
   "cell_type": "code",
   "execution_count": 196,
   "metadata": {
    "scrolled": true
   },
   "outputs": [],
   "source": [
    "area_merged['RISK'].unique()\n",
    "# huge part of the model. our results hinge around these numbers, so we should be really careful\n",
    "# about what we choose. it's not important that they're extremely accurate more so than we have a good,\n",
    "# logical backing for each of them. the maximum (high coastal?) should be 1, and the minimum (moderate_to_low)\n",
    "# should be greater than 0.\n",
    "risk_mapping = {\n",
    "    'moderate_to_low': 0.1, \n",
    "    'moderate': 0.25,\n",
    "    'high': .75,\n",
    "    'high_coastal': 1\n",
    "}\n",
    "area_merged['NUMERICAL_RISK'] = area_merged['RISK'].apply(lambda risk: risk_mapping[risk])\n",
    "area_merged['AREA_WEIGHTED_RISK'] = area_merged['NUMERICAL_RISK'] * area_merged['SHAPE_Proportional_Area']\n",
    "grouped = area_merged.groupby(['Tract']).sum()\n",
    "\n",
    "custom_geoid = nfhl_cleaned.copy()\n",
    "custom_geoid[['GEOID', 'Tract']]\n",
    "custom_geoid = custom_geoid.groupby(['GEOID', 'Tract']).sum().reset_index()\n",
    "custom_geoid.head()\n",
    "grouped = grouped.reset_index()[['Tract', 'AREA_WEIGHTED_RISK']]\n",
    "grouped = grouped.merge(custom_geoid[['GEOID', 'Tract']], on='Tract', how='inner', suffixes=('', '_r'))"
   ]
  },
  {
   "cell_type": "markdown",
   "metadata": {},
   "source": [
    "## Merging with GEOID + Zipcode Crosswalk"
   ]
  },
  {
   "cell_type": "code",
   "execution_count": 176,
   "metadata": {},
   "outputs": [],
   "source": [
    "# using grouped\n",
    "crosswalk = pd.read_excel('ZIP_TRACT_122020.xlsx')"
   ]
  },
  {
   "cell_type": "code",
   "execution_count": 197,
   "metadata": {},
   "outputs": [
    {
     "data": {
      "text/html": [
       "<div>\n",
       "<style scoped>\n",
       "    .dataframe tbody tr th:only-of-type {\n",
       "        vertical-align: middle;\n",
       "    }\n",
       "\n",
       "    .dataframe tbody tr th {\n",
       "        vertical-align: top;\n",
       "    }\n",
       "\n",
       "    .dataframe thead th {\n",
       "        text-align: right;\n",
       "    }\n",
       "</style>\n",
       "<table border=\"1\" class=\"dataframe\">\n",
       "  <thead>\n",
       "    <tr style=\"text-align: right;\">\n",
       "      <th></th>\n",
       "      <th>AREA_WEIGHTED_RISK</th>\n",
       "      <th>ZIP</th>\n",
       "    </tr>\n",
       "  </thead>\n",
       "  <tbody>\n",
       "    <tr>\n",
       "      <th>0</th>\n",
       "      <td>0.53531</td>\n",
       "      <td>70601.00000</td>\n",
       "    </tr>\n",
       "    <tr>\n",
       "      <th>1</th>\n",
       "      <td>0.53531</td>\n",
       "      <td>70602.00000</td>\n",
       "    </tr>\n",
       "    <tr>\n",
       "      <th>2</th>\n",
       "      <td>0.53531</td>\n",
       "      <td>70629.00000</td>\n",
       "    </tr>\n",
       "    <tr>\n",
       "      <th>3</th>\n",
       "      <td>0.53531</td>\n",
       "      <td>71418.00000</td>\n",
       "    </tr>\n",
       "    <tr>\n",
       "      <th>4</th>\n",
       "      <td>0.53531</td>\n",
       "      <td>71326.00000</td>\n",
       "    </tr>\n",
       "    <tr>\n",
       "      <th>5</th>\n",
       "      <td>0.53531</td>\n",
       "      <td>71340.00000</td>\n",
       "    </tr>\n",
       "    <tr>\n",
       "      <th>6</th>\n",
       "      <td>0.53531</td>\n",
       "      <td>71343.00000</td>\n",
       "    </tr>\n",
       "    <tr>\n",
       "      <th>7</th>\n",
       "      <td>0.53531</td>\n",
       "      <td>71363.00000</td>\n",
       "    </tr>\n",
       "    <tr>\n",
       "      <th>8</th>\n",
       "      <td>0.53531</td>\n",
       "      <td>71368.00000</td>\n",
       "    </tr>\n",
       "    <tr>\n",
       "      <th>9</th>\n",
       "      <td>0.53531</td>\n",
       "      <td>71401.00000</td>\n",
       "    </tr>\n",
       "  </tbody>\n",
       "</table>\n",
       "</div>"
      ],
      "text/plain": [
       "   AREA_WEIGHTED_RISK         ZIP\n",
       "0             0.53531 70601.00000\n",
       "1             0.53531 70602.00000\n",
       "2             0.53531 70629.00000\n",
       "3             0.53531 71418.00000\n",
       "4             0.53531 71326.00000\n",
       "5             0.53531 71340.00000\n",
       "6             0.53531 71343.00000\n",
       "7             0.53531 71363.00000\n",
       "8             0.53531 71368.00000\n",
       "9             0.53531 71401.00000"
      ]
     },
     "execution_count": 197,
     "metadata": {},
     "output_type": "execute_result"
    }
   ],
   "source": [
    "grouped['GEOID'] = grouped['GEOID'].apply(lambda x: int(x))\n",
    "grouped = grouped.merge(crosswalk[['ZIP', 'TRACT']], left_on='GEOID', right_on='TRACT', how='left')\n",
    "grouped = grouped[['AREA_WEIGHTED_RISK', 'ZIP']]\n",
    "grouped.head(10)"
   ]
  },
  {
   "cell_type": "code",
   "execution_count": 225,
   "metadata": {},
   "outputs": [
    {
     "name": "stdout",
     "output_type": "stream",
     "text": [
      "587\n",
      "515\n"
     ]
    },
    {
     "data": {
      "text/plain": [
       "0.089994156734000685"
      ]
     },
     "execution_count": 225,
     "metadata": {},
     "output_type": "execute_result"
    }
   ],
   "source": [
    "average_grouped = grouped.groupby('ZIP').mean().reset_index()\n",
    "se_count_merged = merged.merge(average_grouped, how='left', on='ZIP')\n",
    "se_count_merged_clean = se_count_merged[~se_count_merged['AREA_WEIGHTED_RISK'].isna()]\n",
    "se_count_merged_clean.corr()['AREA_WEIGHTED_RISK']['count']"
   ]
  },
  {
   "cell_type": "markdown",
   "metadata": {},
   "source": [
    "#### Tune Weighting"
   ]
  },
  {
   "cell_type": "code",
   "execution_count": 245,
   "metadata": {
    "collapsed": true
   },
   "outputs": [
    {
     "name": "stderr",
     "output_type": "stream",
     "text": [
      "  0%|          | 0/11 [00:00<?, ?it/s]\n",
      "  0%|          | 0/11 [00:00<?, ?it/s]\u001b[A"
     ]
    },
    {
     "name": "stdout",
     "output_type": "stream",
     "text": [
      "0.0\n",
      "0.0\n"
     ]
    },
    {
     "name": "stderr",
     "output_type": "stream",
     "text": [
      "\n",
      "  9%|▉         | 1/11 [00:12<02:00, 12.09s/it]\u001b[A"
     ]
    },
    {
     "name": "stdout",
     "output_type": "stream",
     "text": [
      "0.1\n"
     ]
    },
    {
     "name": "stderr",
     "output_type": "stream",
     "text": [
      "\n",
      " 18%|█▊        | 2/11 [00:23<01:44, 11.66s/it]\u001b[A"
     ]
    },
    {
     "name": "stdout",
     "output_type": "stream",
     "text": [
      "0.2\n"
     ]
    },
    {
     "name": "stderr",
     "output_type": "stream",
     "text": [
      "\n",
      " 27%|██▋       | 3/11 [00:34<01:31, 11.45s/it]\u001b[A"
     ]
    },
    {
     "name": "stdout",
     "output_type": "stream",
     "text": [
      "0.3\n"
     ]
    },
    {
     "name": "stderr",
     "output_type": "stream",
     "text": [
      "\n",
      " 36%|███▋      | 4/11 [00:46<01:20, 11.46s/it]\u001b[A"
     ]
    },
    {
     "name": "stdout",
     "output_type": "stream",
     "text": [
      "0.4\n"
     ]
    },
    {
     "name": "stderr",
     "output_type": "stream",
     "text": [
      "\n",
      " 45%|████▌     | 5/11 [00:57<01:08, 11.45s/it]\u001b[A"
     ]
    },
    {
     "name": "stdout",
     "output_type": "stream",
     "text": [
      "0.5\n"
     ]
    },
    {
     "name": "stderr",
     "output_type": "stream",
     "text": [
      "\n",
      " 55%|█████▍    | 6/11 [01:08<00:57, 11.41s/it]\u001b[A"
     ]
    },
    {
     "name": "stdout",
     "output_type": "stream",
     "text": [
      "0.6\n"
     ]
    },
    {
     "name": "stderr",
     "output_type": "stream",
     "text": [
      "\n",
      " 64%|██████▎   | 7/11 [01:20<00:45, 11.36s/it]\u001b[A"
     ]
    },
    {
     "name": "stdout",
     "output_type": "stream",
     "text": [
      "0.7\n"
     ]
    },
    {
     "name": "stderr",
     "output_type": "stream",
     "text": [
      "\n",
      " 73%|███████▎  | 8/11 [01:31<00:34, 11.35s/it]\u001b[A"
     ]
    },
    {
     "name": "stdout",
     "output_type": "stream",
     "text": [
      "0.8\n"
     ]
    },
    {
     "name": "stderr",
     "output_type": "stream",
     "text": [
      "\n",
      " 82%|████████▏ | 9/11 [01:42<00:22, 11.33s/it]\u001b[A"
     ]
    },
    {
     "name": "stdout",
     "output_type": "stream",
     "text": [
      "0.9\n"
     ]
    },
    {
     "name": "stderr",
     "output_type": "stream",
     "text": [
      "\n",
      " 91%|█████████ | 10/11 [01:54<00:11, 11.30s/it]\u001b[A"
     ]
    },
    {
     "name": "stdout",
     "output_type": "stream",
     "text": [
      "1.0\n"
     ]
    },
    {
     "name": "stderr",
     "output_type": "stream",
     "text": [
      "\n",
      "100%|██████████| 11/11 [02:05<00:00, 11.41s/it]\u001b[A\n",
      "  9%|▉         | 1/11 [02:05<20:55, 125.50s/it]\n",
      "  0%|          | 0/11 [00:00<?, ?it/s]\u001b[A"
     ]
    },
    {
     "name": "stdout",
     "output_type": "stream",
     "text": [
      "0.1\n",
      "0.0\n"
     ]
    },
    {
     "name": "stderr",
     "output_type": "stream",
     "text": [
      "\n",
      "  9%|▉         | 1/11 [00:11<01:50, 11.08s/it]\u001b[A"
     ]
    },
    {
     "name": "stdout",
     "output_type": "stream",
     "text": [
      "0.1\n"
     ]
    },
    {
     "name": "stderr",
     "output_type": "stream",
     "text": [
      "\n",
      " 18%|█▊        | 2/11 [00:22<01:39, 11.08s/it]\u001b[A"
     ]
    },
    {
     "name": "stdout",
     "output_type": "stream",
     "text": [
      "0.2\n"
     ]
    },
    {
     "name": "stderr",
     "output_type": "stream",
     "text": [
      "\n",
      " 27%|██▋       | 3/11 [00:33<01:29, 11.14s/it]\u001b[A"
     ]
    },
    {
     "name": "stdout",
     "output_type": "stream",
     "text": [
      "0.3\n"
     ]
    },
    {
     "name": "stderr",
     "output_type": "stream",
     "text": [
      "\n",
      " 36%|███▋      | 4/11 [00:44<01:17, 11.14s/it]\u001b[A"
     ]
    },
    {
     "name": "stdout",
     "output_type": "stream",
     "text": [
      "0.4\n"
     ]
    },
    {
     "name": "stderr",
     "output_type": "stream",
     "text": [
      "\n",
      " 45%|████▌     | 5/11 [00:55<01:06, 11.16s/it]\u001b[A"
     ]
    },
    {
     "name": "stdout",
     "output_type": "stream",
     "text": [
      "0.5\n"
     ]
    },
    {
     "name": "stderr",
     "output_type": "stream",
     "text": [
      "\n",
      " 55%|█████▍    | 6/11 [01:07<00:56, 11.21s/it]\u001b[A"
     ]
    },
    {
     "name": "stdout",
     "output_type": "stream",
     "text": [
      "0.6\n"
     ]
    },
    {
     "name": "stderr",
     "output_type": "stream",
     "text": [
      "\n",
      " 64%|██████▎   | 7/11 [01:18<00:44, 11.23s/it]\u001b[A"
     ]
    },
    {
     "name": "stdout",
     "output_type": "stream",
     "text": [
      "0.7\n"
     ]
    },
    {
     "name": "stderr",
     "output_type": "stream",
     "text": [
      "\n",
      " 73%|███████▎  | 8/11 [01:29<00:33, 11.29s/it]\u001b[A"
     ]
    },
    {
     "name": "stdout",
     "output_type": "stream",
     "text": [
      "0.8\n"
     ]
    },
    {
     "name": "stderr",
     "output_type": "stream",
     "text": [
      "\n",
      " 82%|████████▏ | 9/11 [01:40<00:22, 11.29s/it]\u001b[A"
     ]
    },
    {
     "name": "stdout",
     "output_type": "stream",
     "text": [
      "0.9\n"
     ]
    },
    {
     "name": "stderr",
     "output_type": "stream",
     "text": [
      "\n",
      " 91%|█████████ | 10/11 [01:52<00:11, 11.30s/it]\u001b[A"
     ]
    },
    {
     "name": "stdout",
     "output_type": "stream",
     "text": [
      "1.0\n"
     ]
    },
    {
     "name": "stderr",
     "output_type": "stream",
     "text": [
      "\n",
      "100%|██████████| 11/11 [02:03<00:00, 11.24s/it]\u001b[A\n",
      " 18%|█▊        | 2/11 [04:09<18:39, 124.44s/it]\n",
      "  0%|          | 0/11 [00:00<?, ?it/s]\u001b[A"
     ]
    },
    {
     "name": "stdout",
     "output_type": "stream",
     "text": [
      "0.2\n",
      "0.0\n"
     ]
    },
    {
     "name": "stderr",
     "output_type": "stream",
     "text": [
      "\n",
      "  9%|▉         | 1/11 [00:11<01:57, 11.75s/it]\u001b[A"
     ]
    },
    {
     "name": "stdout",
     "output_type": "stream",
     "text": [
      "0.1\n"
     ]
    },
    {
     "name": "stderr",
     "output_type": "stream",
     "text": [
      "\n",
      " 18%|█▊        | 2/11 [00:24<01:52, 12.54s/it]\u001b[A"
     ]
    },
    {
     "name": "stdout",
     "output_type": "stream",
     "text": [
      "0.2\n"
     ]
    },
    {
     "name": "stderr",
     "output_type": "stream",
     "text": [
      "\n",
      " 27%|██▋       | 3/11 [00:45<02:11, 16.42s/it]\u001b[A"
     ]
    },
    {
     "name": "stdout",
     "output_type": "stream",
     "text": [
      "0.3\n"
     ]
    },
    {
     "name": "stderr",
     "output_type": "stream",
     "text": [
      "\n",
      " 36%|███▋      | 4/11 [00:58<01:45, 15.07s/it]\u001b[A"
     ]
    },
    {
     "name": "stdout",
     "output_type": "stream",
     "text": [
      "0.4\n"
     ]
    },
    {
     "name": "stderr",
     "output_type": "stream",
     "text": [
      "\n",
      " 45%|████▌     | 5/11 [01:11<01:24, 14.03s/it]\u001b[A"
     ]
    },
    {
     "name": "stdout",
     "output_type": "stream",
     "text": [
      "0.5\n"
     ]
    },
    {
     "name": "stderr",
     "output_type": "stream",
     "text": [
      "\n",
      " 55%|█████▍    | 6/11 [01:25<01:11, 14.29s/it]\u001b[A"
     ]
    },
    {
     "name": "stdout",
     "output_type": "stream",
     "text": [
      "0.6\n"
     ]
    },
    {
     "name": "stderr",
     "output_type": "stream",
     "text": [
      "\n",
      " 64%|██████▎   | 7/11 [01:38<00:55, 13.91s/it]\u001b[A"
     ]
    },
    {
     "name": "stdout",
     "output_type": "stream",
     "text": [
      "0.7\n"
     ]
    },
    {
     "name": "stderr",
     "output_type": "stream",
     "text": [
      "\n",
      " 73%|███████▎  | 8/11 [01:52<00:40, 13.65s/it]\u001b[A"
     ]
    },
    {
     "name": "stdout",
     "output_type": "stream",
     "text": [
      "0.8\n"
     ]
    },
    {
     "name": "stderr",
     "output_type": "stream",
     "text": [
      "\n",
      " 82%|████████▏ | 9/11 [02:07<00:28, 14.30s/it]\u001b[A"
     ]
    },
    {
     "name": "stdout",
     "output_type": "stream",
     "text": [
      "0.9\n"
     ]
    },
    {
     "name": "stderr",
     "output_type": "stream",
     "text": [
      "\n",
      " 91%|█████████ | 10/11 [02:21<00:14, 14.26s/it]\u001b[A"
     ]
    },
    {
     "name": "stdout",
     "output_type": "stream",
     "text": [
      "1.0\n"
     ]
    },
    {
     "name": "stderr",
     "output_type": "stream",
     "text": [
      "\n",
      "100%|██████████| 11/11 [02:35<00:00, 14.17s/it]\u001b[A\n",
      " 27%|██▋       | 3/11 [06:45<18:30, 138.78s/it]\n",
      "  0%|          | 0/11 [00:00<?, ?it/s]\u001b[A"
     ]
    },
    {
     "name": "stdout",
     "output_type": "stream",
     "text": [
      "0.3\n",
      "0.0\n"
     ]
    },
    {
     "name": "stderr",
     "output_type": "stream",
     "text": [
      "\n",
      "  9%|▉         | 1/11 [00:15<02:32, 15.21s/it]\u001b[A"
     ]
    },
    {
     "name": "stdout",
     "output_type": "stream",
     "text": [
      "0.1\n"
     ]
    },
    {
     "name": "stderr",
     "output_type": "stream",
     "text": [
      "\n",
      " 18%|█▊        | 2/11 [00:28<02:09, 14.36s/it]\u001b[A"
     ]
    },
    {
     "name": "stdout",
     "output_type": "stream",
     "text": [
      "0.2\n"
     ]
    },
    {
     "name": "stderr",
     "output_type": "stream",
     "text": [
      "\n",
      " 27%|██▋       | 3/11 [00:40<01:44, 13.06s/it]\u001b[A"
     ]
    },
    {
     "name": "stdout",
     "output_type": "stream",
     "text": [
      "0.3\n"
     ]
    },
    {
     "name": "stderr",
     "output_type": "stream",
     "text": [
      "\n",
      " 36%|███▋      | 4/11 [00:52<01:27, 12.45s/it]\u001b[A"
     ]
    },
    {
     "name": "stdout",
     "output_type": "stream",
     "text": [
      "0.4\n"
     ]
    },
    {
     "name": "stderr",
     "output_type": "stream",
     "text": [
      "\n",
      " 45%|████▌     | 5/11 [01:03<01:12, 12.11s/it]\u001b[A"
     ]
    },
    {
     "name": "stdout",
     "output_type": "stream",
     "text": [
      "0.5\n"
     ]
    },
    {
     "name": "stderr",
     "output_type": "stream",
     "text": [
      "\n",
      " 55%|█████▍    | 6/11 [01:14<00:59, 11.85s/it]\u001b[A"
     ]
    },
    {
     "name": "stdout",
     "output_type": "stream",
     "text": [
      "0.6\n"
     ]
    },
    {
     "name": "stderr",
     "output_type": "stream",
     "text": [
      "\n",
      " 64%|██████▎   | 7/11 [01:26<00:47, 11.76s/it]\u001b[A"
     ]
    },
    {
     "name": "stdout",
     "output_type": "stream",
     "text": [
      "0.7\n"
     ]
    },
    {
     "name": "stderr",
     "output_type": "stream",
     "text": [
      "\n",
      " 73%|███████▎  | 8/11 [01:37<00:34, 11.62s/it]\u001b[A"
     ]
    },
    {
     "name": "stdout",
     "output_type": "stream",
     "text": [
      "0.8\n"
     ]
    },
    {
     "name": "stderr",
     "output_type": "stream",
     "text": [
      "\n",
      " 82%|████████▏ | 9/11 [01:49<00:23, 11.52s/it]\u001b[A"
     ]
    },
    {
     "name": "stdout",
     "output_type": "stream",
     "text": [
      "0.9\n"
     ]
    },
    {
     "name": "stderr",
     "output_type": "stream",
     "text": [
      "\n",
      " 91%|█████████ | 10/11 [02:00<00:11, 11.43s/it]\u001b[A"
     ]
    },
    {
     "name": "stdout",
     "output_type": "stream",
     "text": [
      "1.0\n"
     ]
    },
    {
     "name": "stderr",
     "output_type": "stream",
     "text": [
      "\n",
      "100%|██████████| 11/11 [02:13<00:00, 12.16s/it]\u001b[A\n",
      " 36%|███▋      | 4/11 [08:58<15:57, 136.80s/it]\n",
      "  0%|          | 0/11 [00:00<?, ?it/s]\u001b[A"
     ]
    },
    {
     "name": "stdout",
     "output_type": "stream",
     "text": [
      "0.4\n",
      "0.0\n"
     ]
    },
    {
     "name": "stderr",
     "output_type": "stream",
     "text": [
      "\n",
      "  9%|▉         | 1/11 [00:14<02:24, 14.44s/it]\u001b[A"
     ]
    },
    {
     "name": "stdout",
     "output_type": "stream",
     "text": [
      "0.1\n"
     ]
    },
    {
     "name": "stderr",
     "output_type": "stream",
     "text": [
      "\n",
      " 18%|█▊        | 2/11 [00:29<02:12, 14.72s/it]\u001b[A"
     ]
    },
    {
     "name": "stdout",
     "output_type": "stream",
     "text": [
      "0.2\n"
     ]
    },
    {
     "name": "stderr",
     "output_type": "stream",
     "text": [
      "\n",
      " 27%|██▋       | 3/11 [00:41<01:47, 13.42s/it]\u001b[A"
     ]
    },
    {
     "name": "stdout",
     "output_type": "stream",
     "text": [
      "0.3\n"
     ]
    },
    {
     "name": "stderr",
     "output_type": "stream",
     "text": [
      "\n",
      " 36%|███▋      | 4/11 [00:53<01:29, 12.79s/it]\u001b[A"
     ]
    },
    {
     "name": "stdout",
     "output_type": "stream",
     "text": [
      "0.4\n"
     ]
    },
    {
     "name": "stderr",
     "output_type": "stream",
     "text": [
      "\n",
      " 45%|████▌     | 5/11 [01:04<01:14, 12.34s/it]\u001b[A"
     ]
    },
    {
     "name": "stdout",
     "output_type": "stream",
     "text": [
      "0.5\n"
     ]
    },
    {
     "name": "stderr",
     "output_type": "stream",
     "text": [
      "\n",
      " 55%|█████▍    | 6/11 [01:16<01:00, 12.09s/it]\u001b[A"
     ]
    },
    {
     "name": "stdout",
     "output_type": "stream",
     "text": [
      "0.6\n"
     ]
    },
    {
     "name": "stderr",
     "output_type": "stream",
     "text": [
      "\n",
      " 64%|██████▎   | 7/11 [01:27<00:47, 11.87s/it]\u001b[A"
     ]
    },
    {
     "name": "stdout",
     "output_type": "stream",
     "text": [
      "0.7\n"
     ]
    },
    {
     "name": "stderr",
     "output_type": "stream",
     "text": [
      "\n",
      " 73%|███████▎  | 8/11 [01:39<00:35, 11.83s/it]\u001b[A"
     ]
    },
    {
     "name": "stdout",
     "output_type": "stream",
     "text": [
      "0.8\n"
     ]
    },
    {
     "name": "stderr",
     "output_type": "stream",
     "text": [
      "\n",
      " 82%|████████▏ | 9/11 [01:55<00:26, 13.09s/it]\u001b[A"
     ]
    },
    {
     "name": "stdout",
     "output_type": "stream",
     "text": [
      "0.9\n"
     ]
    },
    {
     "name": "stderr",
     "output_type": "stream",
     "text": [
      "\n",
      " 91%|█████████ | 10/11 [02:10<00:13, 13.78s/it]\u001b[A"
     ]
    },
    {
     "name": "stdout",
     "output_type": "stream",
     "text": [
      "1.0\n"
     ]
    },
    {
     "name": "stderr",
     "output_type": "stream",
     "text": [
      "\n",
      "100%|██████████| 11/11 [02:22<00:00, 12.95s/it]\u001b[A\n",
      " 45%|████▌     | 5/11 [11:21<13:53, 138.85s/it]\n",
      "  0%|          | 0/11 [00:00<?, ?it/s]\u001b[A"
     ]
    },
    {
     "name": "stdout",
     "output_type": "stream",
     "text": [
      "0.5\n",
      "0.0\n"
     ]
    },
    {
     "name": "stderr",
     "output_type": "stream",
     "text": [
      "\n",
      "  9%|▉         | 1/11 [00:11<01:58, 11.88s/it]\u001b[A"
     ]
    },
    {
     "name": "stdout",
     "output_type": "stream",
     "text": [
      "0.1\n"
     ]
    },
    {
     "name": "stderr",
     "output_type": "stream",
     "text": [
      "\n",
      " 18%|█▊        | 2/11 [00:23<01:46, 11.88s/it]\u001b[A"
     ]
    },
    {
     "name": "stdout",
     "output_type": "stream",
     "text": [
      "0.2\n"
     ]
    },
    {
     "name": "stderr",
     "output_type": "stream",
     "text": [
      "\n",
      " 27%|██▋       | 3/11 [00:35<01:34, 11.84s/it]\u001b[A"
     ]
    },
    {
     "name": "stdout",
     "output_type": "stream",
     "text": [
      "0.3\n"
     ]
    },
    {
     "name": "stderr",
     "output_type": "stream",
     "text": [
      "\n",
      " 36%|███▋      | 4/11 [00:47<01:22, 11.79s/it]\u001b[A"
     ]
    },
    {
     "name": "stdout",
     "output_type": "stream",
     "text": [
      "0.4\n"
     ]
    },
    {
     "name": "stderr",
     "output_type": "stream",
     "text": [
      "\n",
      " 45%|████▌     | 5/11 [01:01<01:15, 12.57s/it]\u001b[A"
     ]
    },
    {
     "name": "stdout",
     "output_type": "stream",
     "text": [
      "0.5\n"
     ]
    },
    {
     "name": "stderr",
     "output_type": "stream",
     "text": [
      "\n",
      " 55%|█████▍    | 6/11 [01:14<01:04, 12.94s/it]\u001b[A"
     ]
    },
    {
     "name": "stdout",
     "output_type": "stream",
     "text": [
      "0.6\n"
     ]
    },
    {
     "name": "stderr",
     "output_type": "stream",
     "text": [
      "\n",
      " 64%|██████▎   | 7/11 [01:32<00:57, 14.43s/it]\u001b[A"
     ]
    },
    {
     "name": "stdout",
     "output_type": "stream",
     "text": [
      "0.7\n"
     ]
    },
    {
     "name": "stderr",
     "output_type": "stream",
     "text": [
      "\n",
      " 73%|███████▎  | 8/11 [01:47<00:44, 14.67s/it]\u001b[A"
     ]
    },
    {
     "name": "stdout",
     "output_type": "stream",
     "text": [
      "0.8\n"
     ]
    },
    {
     "name": "stderr",
     "output_type": "stream",
     "text": [
      "\n",
      " 82%|████████▏ | 9/11 [01:59<00:27, 13.94s/it]\u001b[A"
     ]
    },
    {
     "name": "stdout",
     "output_type": "stream",
     "text": [
      "0.9\n"
     ]
    },
    {
     "name": "stderr",
     "output_type": "stream",
     "text": [
      "\n",
      " 91%|█████████ | 10/11 [02:13<00:13, 13.79s/it]\u001b[A"
     ]
    },
    {
     "name": "stdout",
     "output_type": "stream",
     "text": [
      "1.0\n"
     ]
    },
    {
     "name": "stderr",
     "output_type": "stream",
     "text": [
      "\n",
      "100%|██████████| 11/11 [02:25<00:00, 13.18s/it]\u001b[A\n",
      " 55%|█████▍    | 6/11 [13:46<11:44, 140.95s/it]\n",
      "  0%|          | 0/11 [00:00<?, ?it/s]\u001b[A"
     ]
    },
    {
     "name": "stdout",
     "output_type": "stream",
     "text": [
      "0.6\n",
      "0.0\n"
     ]
    },
    {
     "name": "stderr",
     "output_type": "stream",
     "text": [
      "\n",
      "  9%|▉         | 1/11 [00:11<01:59, 11.92s/it]\u001b[A"
     ]
    },
    {
     "name": "stdout",
     "output_type": "stream",
     "text": [
      "0.1\n"
     ]
    },
    {
     "name": "stderr",
     "output_type": "stream",
     "text": [
      "\n",
      " 18%|█▊        | 2/11 [00:25<01:56, 12.97s/it]\u001b[A"
     ]
    },
    {
     "name": "stdout",
     "output_type": "stream",
     "text": [
      "0.2\n"
     ]
    },
    {
     "name": "stderr",
     "output_type": "stream",
     "text": [
      "\n",
      " 27%|██▋       | 3/11 [00:59<03:00, 22.51s/it]\u001b[A"
     ]
    },
    {
     "name": "stdout",
     "output_type": "stream",
     "text": [
      "0.3\n"
     ]
    },
    {
     "name": "stderr",
     "output_type": "stream",
     "text": [
      "\n",
      " 36%|███▋      | 4/11 [01:12<02:10, 18.65s/it]\u001b[A"
     ]
    },
    {
     "name": "stdout",
     "output_type": "stream",
     "text": [
      "0.4\n"
     ]
    },
    {
     "name": "stderr",
     "output_type": "stream",
     "text": [
      "\n",
      " 45%|████▌     | 5/11 [01:24<01:37, 16.26s/it]\u001b[A"
     ]
    },
    {
     "name": "stdout",
     "output_type": "stream",
     "text": [
      "0.5\n"
     ]
    },
    {
     "name": "stderr",
     "output_type": "stream",
     "text": [
      "\n",
      " 55%|█████▍    | 6/11 [01:36<01:14, 14.96s/it]\u001b[A"
     ]
    },
    {
     "name": "stdout",
     "output_type": "stream",
     "text": [
      "0.6\n"
     ]
    },
    {
     "name": "stderr",
     "output_type": "stream",
     "text": [
      "\n",
      " 64%|██████▎   | 7/11 [01:48<00:56, 14.01s/it]\u001b[A"
     ]
    },
    {
     "name": "stdout",
     "output_type": "stream",
     "text": [
      "0.7\n"
     ]
    },
    {
     "name": "stderr",
     "output_type": "stream",
     "text": [
      "\n",
      " 73%|███████▎  | 8/11 [02:00<00:39, 13.28s/it]\u001b[A"
     ]
    },
    {
     "name": "stdout",
     "output_type": "stream",
     "text": [
      "0.8\n"
     ]
    },
    {
     "name": "stderr",
     "output_type": "stream",
     "text": [
      "\n",
      " 82%|████████▏ | 9/11 [02:12<00:25, 12.85s/it]\u001b[A"
     ]
    },
    {
     "name": "stdout",
     "output_type": "stream",
     "text": [
      "0.9\n"
     ]
    },
    {
     "name": "stderr",
     "output_type": "stream",
     "text": [
      "\n",
      " 91%|█████████ | 10/11 [02:24<00:12, 12.64s/it]\u001b[A"
     ]
    },
    {
     "name": "stdout",
     "output_type": "stream",
     "text": [
      "1.0\n"
     ]
    },
    {
     "name": "stderr",
     "output_type": "stream",
     "text": [
      "\n",
      "100%|██████████| 11/11 [02:36<00:00, 14.23s/it]\u001b[A\n",
      " 64%|██████▎   | 7/11 [16:22<09:44, 146.05s/it]\n",
      "  0%|          | 0/11 [00:00<?, ?it/s]\u001b[A"
     ]
    },
    {
     "name": "stdout",
     "output_type": "stream",
     "text": [
      "0.7\n",
      "0.0\n"
     ]
    },
    {
     "name": "stderr",
     "output_type": "stream",
     "text": [
      "\n",
      "  9%|▉         | 1/11 [00:12<02:01, 12.20s/it]\u001b[A"
     ]
    },
    {
     "name": "stdout",
     "output_type": "stream",
     "text": [
      "0.1\n"
     ]
    },
    {
     "name": "stderr",
     "output_type": "stream",
     "text": [
      "\n",
      " 18%|█▊        | 2/11 [00:24<01:49, 12.13s/it]\u001b[A"
     ]
    },
    {
     "name": "stdout",
     "output_type": "stream",
     "text": [
      "0.2\n"
     ]
    },
    {
     "name": "stderr",
     "output_type": "stream",
     "text": [
      "\n",
      " 27%|██▋       | 3/11 [00:36<01:35, 11.98s/it]\u001b[A"
     ]
    },
    {
     "name": "stdout",
     "output_type": "stream",
     "text": [
      "0.3\n"
     ]
    },
    {
     "name": "stderr",
     "output_type": "stream",
     "text": [
      "\n",
      " 36%|███▋      | 4/11 [00:48<01:25, 12.24s/it]\u001b[A"
     ]
    },
    {
     "name": "stdout",
     "output_type": "stream",
     "text": [
      "0.4\n"
     ]
    },
    {
     "name": "stderr",
     "output_type": "stream",
     "text": [
      "\n",
      " 45%|████▌     | 5/11 [01:05<01:23, 13.84s/it]\u001b[A"
     ]
    },
    {
     "name": "stdout",
     "output_type": "stream",
     "text": [
      "0.5\n"
     ]
    },
    {
     "name": "stderr",
     "output_type": "stream",
     "text": [
      "\n",
      " 55%|█████▍    | 6/11 [01:18<01:08, 13.61s/it]\u001b[A"
     ]
    },
    {
     "name": "stdout",
     "output_type": "stream",
     "text": [
      "0.6\n"
     ]
    },
    {
     "name": "stderr",
     "output_type": "stream",
     "text": [
      "\n",
      " 64%|██████▎   | 7/11 [01:31<00:54, 13.52s/it]\u001b[A"
     ]
    },
    {
     "name": "stdout",
     "output_type": "stream",
     "text": [
      "0.7\n"
     ]
    },
    {
     "name": "stderr",
     "output_type": "stream",
     "text": [
      "\n",
      " 73%|███████▎  | 8/11 [01:44<00:40, 13.36s/it]\u001b[A"
     ]
    },
    {
     "name": "stdout",
     "output_type": "stream",
     "text": [
      "0.8\n"
     ]
    },
    {
     "name": "stderr",
     "output_type": "stream",
     "text": [
      "\n",
      " 82%|████████▏ | 9/11 [01:57<00:26, 13.06s/it]\u001b[A"
     ]
    },
    {
     "name": "stdout",
     "output_type": "stream",
     "text": [
      "0.9\n"
     ]
    },
    {
     "name": "stderr",
     "output_type": "stream",
     "text": [
      "\n",
      " 91%|█████████ | 10/11 [02:09<00:12, 12.74s/it]\u001b[A"
     ]
    },
    {
     "name": "stdout",
     "output_type": "stream",
     "text": [
      "1.0\n"
     ]
    },
    {
     "name": "stderr",
     "output_type": "stream",
     "text": [
      "\n",
      "100%|██████████| 11/11 [02:21<00:00, 12.86s/it]\u001b[A\n",
      " 73%|███████▎  | 8/11 [18:44<07:13, 144.59s/it]\n",
      "  0%|          | 0/11 [00:00<?, ?it/s]\u001b[A"
     ]
    },
    {
     "name": "stdout",
     "output_type": "stream",
     "text": [
      "0.8\n",
      "0.0\n"
     ]
    },
    {
     "name": "stderr",
     "output_type": "stream",
     "text": [
      "\n",
      "  9%|▉         | 1/11 [00:12<02:01, 12.16s/it]\u001b[A"
     ]
    },
    {
     "name": "stdout",
     "output_type": "stream",
     "text": [
      "0.1\n"
     ]
    },
    {
     "name": "stderr",
     "output_type": "stream",
     "text": [
      "\n",
      " 18%|█▊        | 2/11 [00:25<01:53, 12.61s/it]\u001b[A"
     ]
    },
    {
     "name": "stdout",
     "output_type": "stream",
     "text": [
      "0.2\n"
     ]
    },
    {
     "name": "stderr",
     "output_type": "stream",
     "text": [
      "\n",
      " 27%|██▋       | 3/11 [00:37<01:38, 12.31s/it]\u001b[A"
     ]
    },
    {
     "name": "stdout",
     "output_type": "stream",
     "text": [
      "0.3\n"
     ]
    },
    {
     "name": "stderr",
     "output_type": "stream",
     "text": [
      "\n",
      " 36%|███▋      | 4/11 [00:49<01:26, 12.29s/it]\u001b[A"
     ]
    },
    {
     "name": "stdout",
     "output_type": "stream",
     "text": [
      "0.4\n"
     ]
    },
    {
     "name": "stderr",
     "output_type": "stream",
     "text": [
      "\n",
      " 45%|████▌     | 5/11 [01:01<01:13, 12.21s/it]\u001b[A"
     ]
    },
    {
     "name": "stdout",
     "output_type": "stream",
     "text": [
      "0.5\n"
     ]
    },
    {
     "name": "stderr",
     "output_type": "stream",
     "text": [
      "\n",
      " 55%|█████▍    | 6/11 [01:15<01:04, 12.93s/it]\u001b[A"
     ]
    },
    {
     "name": "stdout",
     "output_type": "stream",
     "text": [
      "0.6\n"
     ]
    },
    {
     "name": "stderr",
     "output_type": "stream",
     "text": [
      "\n",
      " 64%|██████▎   | 7/11 [01:34<00:59, 14.92s/it]\u001b[A"
     ]
    },
    {
     "name": "stdout",
     "output_type": "stream",
     "text": [
      "0.7\n"
     ]
    },
    {
     "name": "stderr",
     "output_type": "stream",
     "text": [
      "\n",
      " 73%|███████▎  | 8/11 [01:47<00:42, 14.30s/it]\u001b[A"
     ]
    },
    {
     "name": "stdout",
     "output_type": "stream",
     "text": [
      "0.8\n"
     ]
    },
    {
     "name": "stderr",
     "output_type": "stream",
     "text": [
      "\n",
      " 82%|████████▏ | 9/11 [02:00<00:27, 13.82s/it]\u001b[A"
     ]
    },
    {
     "name": "stdout",
     "output_type": "stream",
     "text": [
      "0.9\n"
     ]
    },
    {
     "name": "stderr",
     "output_type": "stream",
     "text": [
      "\n",
      " 91%|█████████ | 10/11 [02:13<00:13, 13.51s/it]\u001b[A"
     ]
    },
    {
     "name": "stdout",
     "output_type": "stream",
     "text": [
      "1.0\n"
     ]
    },
    {
     "name": "stderr",
     "output_type": "stream",
     "text": [
      "\n",
      "100%|██████████| 11/11 [02:25<00:00, 13.26s/it]\u001b[A\n",
      " 82%|████████▏ | 9/11 [21:10<04:49, 144.99s/it]\n",
      "  0%|          | 0/11 [00:00<?, ?it/s]\u001b[A"
     ]
    },
    {
     "name": "stdout",
     "output_type": "stream",
     "text": [
      "0.9\n",
      "0.0\n"
     ]
    },
    {
     "name": "stderr",
     "output_type": "stream",
     "text": [
      "\n",
      "  9%|▉         | 1/11 [00:12<02:07, 12.72s/it]\u001b[A"
     ]
    },
    {
     "name": "stdout",
     "output_type": "stream",
     "text": [
      "0.1\n"
     ]
    },
    {
     "name": "stderr",
     "output_type": "stream",
     "text": [
      "\n",
      " 18%|█▊        | 2/11 [00:25<01:56, 12.89s/it]\u001b[A"
     ]
    },
    {
     "name": "stdout",
     "output_type": "stream",
     "text": [
      "0.2\n"
     ]
    },
    {
     "name": "stderr",
     "output_type": "stream",
     "text": [
      "\n",
      " 27%|██▋       | 3/11 [00:39<01:46, 13.35s/it]\u001b[A"
     ]
    },
    {
     "name": "stdout",
     "output_type": "stream",
     "text": [
      "0.3\n"
     ]
    },
    {
     "name": "stderr",
     "output_type": "stream",
     "text": [
      "\n",
      " 36%|███▋      | 4/11 [00:54<01:38, 14.03s/it]\u001b[A"
     ]
    },
    {
     "name": "stdout",
     "output_type": "stream",
     "text": [
      "0.4\n"
     ]
    },
    {
     "name": "stderr",
     "output_type": "stream",
     "text": [
      "\n",
      " 45%|████▌     | 5/11 [01:11<01:29, 14.87s/it]\u001b[A"
     ]
    },
    {
     "name": "stdout",
     "output_type": "stream",
     "text": [
      "0.5\n"
     ]
    },
    {
     "name": "stderr",
     "output_type": "stream",
     "text": [
      "\n",
      " 55%|█████▍    | 6/11 [01:22<01:08, 13.71s/it]\u001b[A"
     ]
    },
    {
     "name": "stdout",
     "output_type": "stream",
     "text": [
      "0.6\n"
     ]
    },
    {
     "name": "stderr",
     "output_type": "stream",
     "text": [
      "\n",
      " 64%|██████▎   | 7/11 [01:33<00:51, 12.96s/it]\u001b[A"
     ]
    },
    {
     "name": "stdout",
     "output_type": "stream",
     "text": [
      "0.7\n"
     ]
    },
    {
     "name": "stderr",
     "output_type": "stream",
     "text": [
      "\n",
      " 73%|███████▎  | 8/11 [01:45<00:37, 12.44s/it]\u001b[A"
     ]
    },
    {
     "name": "stdout",
     "output_type": "stream",
     "text": [
      "0.8\n"
     ]
    },
    {
     "name": "stderr",
     "output_type": "stream",
     "text": [
      "\n",
      " 82%|████████▏ | 9/11 [01:56<00:24, 12.08s/it]\u001b[A"
     ]
    },
    {
     "name": "stdout",
     "output_type": "stream",
     "text": [
      "0.9\n"
     ]
    },
    {
     "name": "stderr",
     "output_type": "stream",
     "text": [
      "\n",
      " 91%|█████████ | 10/11 [02:07<00:11, 11.87s/it]\u001b[A"
     ]
    },
    {
     "name": "stdout",
     "output_type": "stream",
     "text": [
      "1.0\n"
     ]
    },
    {
     "name": "stderr",
     "output_type": "stream",
     "text": [
      "\n",
      "100%|██████████| 11/11 [02:19<00:00, 12.67s/it]\u001b[A\n",
      " 91%|█████████ | 10/11 [23:29<02:23, 143.27s/it]\n",
      "  0%|          | 0/11 [00:00<?, ?it/s]\u001b[A"
     ]
    },
    {
     "name": "stdout",
     "output_type": "stream",
     "text": [
      "1.0\n",
      "0.0\n"
     ]
    },
    {
     "name": "stderr",
     "output_type": "stream",
     "text": [
      "\n",
      "  9%|▉         | 1/11 [00:11<01:52, 11.20s/it]\u001b[A"
     ]
    },
    {
     "name": "stdout",
     "output_type": "stream",
     "text": [
      "0.1\n"
     ]
    },
    {
     "name": "stderr",
     "output_type": "stream",
     "text": [
      "\n",
      " 18%|█▊        | 2/11 [00:22<01:41, 11.28s/it]\u001b[A"
     ]
    },
    {
     "name": "stdout",
     "output_type": "stream",
     "text": [
      "0.2\n"
     ]
    },
    {
     "name": "stderr",
     "output_type": "stream",
     "text": [
      "\n",
      " 27%|██▋       | 3/11 [00:35<01:37, 12.13s/it]\u001b[A"
     ]
    },
    {
     "name": "stdout",
     "output_type": "stream",
     "text": [
      "0.3\n"
     ]
    },
    {
     "name": "stderr",
     "output_type": "stream",
     "text": [
      "\n",
      " 36%|███▋      | 4/11 [00:48<01:26, 12.42s/it]\u001b[A"
     ]
    },
    {
     "name": "stdout",
     "output_type": "stream",
     "text": [
      "0.4\n"
     ]
    },
    {
     "name": "stderr",
     "output_type": "stream",
     "text": [
      "\n",
      " 45%|████▌     | 5/11 [00:59<01:12, 12.02s/it]\u001b[A"
     ]
    },
    {
     "name": "stdout",
     "output_type": "stream",
     "text": [
      "0.5\n"
     ]
    },
    {
     "name": "stderr",
     "output_type": "stream",
     "text": [
      "\n",
      " 55%|█████▍    | 6/11 [01:11<00:58, 11.79s/it]\u001b[A"
     ]
    },
    {
     "name": "stdout",
     "output_type": "stream",
     "text": [
      "0.6\n"
     ]
    },
    {
     "name": "stderr",
     "output_type": "stream",
     "text": [
      "\n",
      " 64%|██████▎   | 7/11 [01:22<00:46, 11.61s/it]\u001b[A"
     ]
    },
    {
     "name": "stdout",
     "output_type": "stream",
     "text": [
      "0.7\n"
     ]
    },
    {
     "name": "stderr",
     "output_type": "stream",
     "text": [
      "\n",
      " 73%|███████▎  | 8/11 [01:41<00:42, 14.11s/it]\u001b[A"
     ]
    },
    {
     "name": "stdout",
     "output_type": "stream",
     "text": [
      "0.8\n"
     ]
    },
    {
     "name": "stderr",
     "output_type": "stream",
     "text": [
      "\n",
      " 82%|████████▏ | 9/11 [01:56<00:28, 14.37s/it]\u001b[A"
     ]
    },
    {
     "name": "stdout",
     "output_type": "stream",
     "text": [
      "0.9\n"
     ]
    },
    {
     "name": "stderr",
     "output_type": "stream",
     "text": [
      "\n",
      " 91%|█████████ | 10/11 [02:11<00:14, 14.49s/it]\u001b[A"
     ]
    },
    {
     "name": "stdout",
     "output_type": "stream",
     "text": [
      "1.0\n"
     ]
    },
    {
     "name": "stderr",
     "output_type": "stream",
     "text": [
      "\n",
      "100%|██████████| 11/11 [02:23<00:00, 13.02s/it]\u001b[A\n",
      "100%|██████████| 11/11 [25:52<00:00, 141.17s/it]\n"
     ]
    }
   ],
   "source": [
    "corr_results = pd.DataFrame()\n",
    "corr_results['moderate_to_low'] = \"\"\n",
    "corr_results['moderate'] = \"\"\n",
    "corr_results['high'] = \"\"\n",
    "corr_results['high_coastal'] = \"\"\n",
    "corr_results['corr'] = \"\"\n",
    "\n",
    "def get_corr(risk_mapping_dict): \n",
    "    area_merged['NUMERICAL_RISK'] = area_merged['RISK'].apply(lambda risk: risk_mapping_dict[risk])\n",
    "    area_merged['AREA_WEIGHTED_RISK'] = area_merged['NUMERICAL_RISK'] * area_merged['SHAPE_Proportional_Area']\n",
    "    grouped = area_merged.groupby(['Tract']).sum()\n",
    "\n",
    "    custom_geoid = nfhl_cleaned.copy()\n",
    "    custom_geoid[['GEOID', 'Tract']]\n",
    "    custom_geoid = custom_geoid.groupby(['GEOID', 'Tract']).sum().reset_index()\n",
    "    custom_geoid.head()\n",
    "    grouped = grouped.reset_index()[['Tract', 'AREA_WEIGHTED_RISK']]\n",
    "    grouped = grouped.merge(custom_geoid[['GEOID', 'Tract']], on='Tract', how='inner', suffixes=('', '_r'))\n",
    "    \n",
    "    grouped['GEOID'] = grouped['GEOID'].apply(lambda x: int(x))\n",
    "    grouped = grouped.merge(crosswalk[['ZIP', 'TRACT']], left_on='GEOID', right_on='TRACT', how='left')\n",
    "    grouped = grouped[['AREA_WEIGHTED_RISK', 'ZIP']]\n",
    "    \n",
    "    average_grouped = grouped.groupby('ZIP').mean().reset_index()\n",
    "    se_count_merged = merged.merge(average_grouped, how='left', on='ZIP')\n",
    "    se_count_merged_clean = se_count_merged[~se_count_merged['AREA_WEIGHTED_RISK'].isna()]\n",
    "    return se_count_merged_clean.corr()['AREA_WEIGHTED_RISK']['count']\n",
    "    \n",
    "increments = np.linspace(0,1,11)\n",
    "for i in tqdm(increments):\n",
    "    print(i)\n",
    "    for j in tqdm(increments):\n",
    "        print(j)\n",
    "        for k in increments:\n",
    "            for l in increments:\n",
    "                corr = get_corr({\n",
    "                    'moderate_to_low': i, \n",
    "                    'moderate': j,\n",
    "                    'high': l,\n",
    "                    'high_coastal': k\n",
    "                })\n",
    "                corr_results = corr_results.append({\n",
    "                    'moderate_to_low': i, \n",
    "                    'moderate': j,\n",
    "                    'high': l,\n",
    "                    'high_coastal': k,\n",
    "                    'corr': corr\n",
    "                }, ignore_index=True)\n",
    "                \n",
    "                "
   ]
  },
  {
   "cell_type": "markdown",
   "metadata": {},
   "source": [
    "## Merging with Socioeconomic counts"
   ]
  },
  {
   "cell_type": "code",
   "execution_count": 249,
   "metadata": {
    "collapsed": true
   },
   "outputs": [
    {
     "data": {
      "text/html": [
       "<div>\n",
       "<style scoped>\n",
       "    .dataframe tbody tr th:only-of-type {\n",
       "        vertical-align: middle;\n",
       "    }\n",
       "\n",
       "    .dataframe tbody tr th {\n",
       "        vertical-align: top;\n",
       "    }\n",
       "\n",
       "    .dataframe thead th {\n",
       "        text-align: right;\n",
       "    }\n",
       "</style>\n",
       "<table border=\"1\" class=\"dataframe\">\n",
       "  <thead>\n",
       "    <tr style=\"text-align: right;\">\n",
       "      <th></th>\n",
       "      <th>moderate_to_low</th>\n",
       "      <th>moderate</th>\n",
       "      <th>high</th>\n",
       "      <th>high_coastal</th>\n",
       "      <th>corr</th>\n",
       "    </tr>\n",
       "  </thead>\n",
       "  <tbody>\n",
       "    <tr>\n",
       "      <th>253</th>\n",
       "      <td>0.00000</td>\n",
       "      <td>0.20000</td>\n",
       "      <td>0.00000</td>\n",
       "      <td>0.10000</td>\n",
       "      <td>0.35583</td>\n",
       "    </tr>\n",
       "    <tr>\n",
       "      <th>374</th>\n",
       "      <td>0.00000</td>\n",
       "      <td>0.30000</td>\n",
       "      <td>0.00000</td>\n",
       "      <td>0.10000</td>\n",
       "      <td>0.35961</td>\n",
       "    </tr>\n",
       "    <tr>\n",
       "      <th>495</th>\n",
       "      <td>0.00000</td>\n",
       "      <td>0.40000</td>\n",
       "      <td>0.00000</td>\n",
       "      <td>0.10000</td>\n",
       "      <td>0.35905</td>\n",
       "    </tr>\n",
       "    <tr>\n",
       "      <th>506</th>\n",
       "      <td>0.00000</td>\n",
       "      <td>0.40000</td>\n",
       "      <td>0.00000</td>\n",
       "      <td>0.20000</td>\n",
       "      <td>0.35583</td>\n",
       "    </tr>\n",
       "    <tr>\n",
       "      <th>616</th>\n",
       "      <td>0.00000</td>\n",
       "      <td>0.50000</td>\n",
       "      <td>0.00000</td>\n",
       "      <td>0.10000</td>\n",
       "      <td>0.35786</td>\n",
       "    </tr>\n",
       "    <tr>\n",
       "      <th>627</th>\n",
       "      <td>0.00000</td>\n",
       "      <td>0.50000</td>\n",
       "      <td>0.00000</td>\n",
       "      <td>0.20000</td>\n",
       "      <td>0.35883</td>\n",
       "    </tr>\n",
       "    <tr>\n",
       "      <th>638</th>\n",
       "      <td>0.00000</td>\n",
       "      <td>0.50000</td>\n",
       "      <td>0.00000</td>\n",
       "      <td>0.30000</td>\n",
       "      <td>0.35098</td>\n",
       "    </tr>\n",
       "    <tr>\n",
       "      <th>737</th>\n",
       "      <td>0.00000</td>\n",
       "      <td>0.60000</td>\n",
       "      <td>0.00000</td>\n",
       "      <td>0.10000</td>\n",
       "      <td>0.35670</td>\n",
       "    </tr>\n",
       "    <tr>\n",
       "      <th>748</th>\n",
       "      <td>0.00000</td>\n",
       "      <td>0.60000</td>\n",
       "      <td>0.00000</td>\n",
       "      <td>0.20000</td>\n",
       "      <td>0.35961</td>\n",
       "    </tr>\n",
       "    <tr>\n",
       "      <th>749</th>\n",
       "      <td>0.00000</td>\n",
       "      <td>0.60000</td>\n",
       "      <td>0.10000</td>\n",
       "      <td>0.20000</td>\n",
       "      <td>0.35086</td>\n",
       "    </tr>\n",
       "    <tr>\n",
       "      <th>759</th>\n",
       "      <td>0.00000</td>\n",
       "      <td>0.60000</td>\n",
       "      <td>0.00000</td>\n",
       "      <td>0.30000</td>\n",
       "      <td>0.35583</td>\n",
       "    </tr>\n",
       "    <tr>\n",
       "      <th>858</th>\n",
       "      <td>0.00000</td>\n",
       "      <td>0.70000</td>\n",
       "      <td>0.00000</td>\n",
       "      <td>0.10000</td>\n",
       "      <td>0.35569</td>\n",
       "    </tr>\n",
       "    <tr>\n",
       "      <th>859</th>\n",
       "      <td>0.00000</td>\n",
       "      <td>0.70000</td>\n",
       "      <td>0.10000</td>\n",
       "      <td>0.10000</td>\n",
       "      <td>0.34962</td>\n",
       "    </tr>\n",
       "    <tr>\n",
       "      <th>869</th>\n",
       "      <td>0.00000</td>\n",
       "      <td>0.70000</td>\n",
       "      <td>0.00000</td>\n",
       "      <td>0.20000</td>\n",
       "      <td>0.35951</td>\n",
       "    </tr>\n",
       "    <tr>\n",
       "      <th>870</th>\n",
       "      <td>0.00000</td>\n",
       "      <td>0.70000</td>\n",
       "      <td>0.10000</td>\n",
       "      <td>0.20000</td>\n",
       "      <td>0.35400</td>\n",
       "    </tr>\n",
       "    <tr>\n",
       "      <th>880</th>\n",
       "      <td>0.00000</td>\n",
       "      <td>0.70000</td>\n",
       "      <td>0.00000</td>\n",
       "      <td>0.30000</td>\n",
       "      <td>0.35818</td>\n",
       "    </tr>\n",
       "    <tr>\n",
       "      <th>881</th>\n",
       "      <td>0.00000</td>\n",
       "      <td>0.70000</td>\n",
       "      <td>0.10000</td>\n",
       "      <td>0.30000</td>\n",
       "      <td>0.35360</td>\n",
       "    </tr>\n",
       "    <tr>\n",
       "      <th>891</th>\n",
       "      <td>0.00000</td>\n",
       "      <td>0.70000</td>\n",
       "      <td>0.00000</td>\n",
       "      <td>0.40000</td>\n",
       "      <td>0.35253</td>\n",
       "    </tr>\n",
       "    <tr>\n",
       "      <th>979</th>\n",
       "      <td>0.00000</td>\n",
       "      <td>0.80000</td>\n",
       "      <td>0.00000</td>\n",
       "      <td>0.10000</td>\n",
       "      <td>0.35483</td>\n",
       "    </tr>\n",
       "    <tr>\n",
       "      <th>980</th>\n",
       "      <td>0.00000</td>\n",
       "      <td>0.80000</td>\n",
       "      <td>0.10000</td>\n",
       "      <td>0.10000</td>\n",
       "      <td>0.35106</td>\n",
       "    </tr>\n",
       "    <tr>\n",
       "      <th>990</th>\n",
       "      <td>0.00000</td>\n",
       "      <td>0.80000</td>\n",
       "      <td>0.00000</td>\n",
       "      <td>0.20000</td>\n",
       "      <td>0.35905</td>\n",
       "    </tr>\n",
       "    <tr>\n",
       "      <th>991</th>\n",
       "      <td>0.00000</td>\n",
       "      <td>0.80000</td>\n",
       "      <td>0.10000</td>\n",
       "      <td>0.20000</td>\n",
       "      <td>0.35565</td>\n",
       "    </tr>\n",
       "    <tr>\n",
       "      <th>1001</th>\n",
       "      <td>0.00000</td>\n",
       "      <td>0.80000</td>\n",
       "      <td>0.00000</td>\n",
       "      <td>0.30000</td>\n",
       "      <td>0.35924</td>\n",
       "    </tr>\n",
       "    <tr>\n",
       "      <th>1002</th>\n",
       "      <td>0.00000</td>\n",
       "      <td>0.80000</td>\n",
       "      <td>0.10000</td>\n",
       "      <td>0.30000</td>\n",
       "      <td>0.35643</td>\n",
       "    </tr>\n",
       "    <tr>\n",
       "      <th>1012</th>\n",
       "      <td>0.00000</td>\n",
       "      <td>0.80000</td>\n",
       "      <td>0.00000</td>\n",
       "      <td>0.40000</td>\n",
       "      <td>0.35583</td>\n",
       "    </tr>\n",
       "    <tr>\n",
       "      <th>1013</th>\n",
       "      <td>0.00000</td>\n",
       "      <td>0.80000</td>\n",
       "      <td>0.10000</td>\n",
       "      <td>0.40000</td>\n",
       "      <td>0.35374</td>\n",
       "    </tr>\n",
       "    <tr>\n",
       "      <th>1100</th>\n",
       "      <td>0.00000</td>\n",
       "      <td>0.90000</td>\n",
       "      <td>0.00000</td>\n",
       "      <td>0.10000</td>\n",
       "      <td>0.35410</td>\n",
       "    </tr>\n",
       "    <tr>\n",
       "      <th>1101</th>\n",
       "      <td>0.00000</td>\n",
       "      <td>0.90000</td>\n",
       "      <td>0.10000</td>\n",
       "      <td>0.10000</td>\n",
       "      <td>0.35185</td>\n",
       "    </tr>\n",
       "    <tr>\n",
       "      <th>1111</th>\n",
       "      <td>0.00000</td>\n",
       "      <td>0.90000</td>\n",
       "      <td>0.00000</td>\n",
       "      <td>0.20000</td>\n",
       "      <td>0.35847</td>\n",
       "    </tr>\n",
       "    <tr>\n",
       "      <th>1112</th>\n",
       "      <td>0.00000</td>\n",
       "      <td>0.90000</td>\n",
       "      <td>0.10000</td>\n",
       "      <td>0.20000</td>\n",
       "      <td>0.35648</td>\n",
       "    </tr>\n",
       "    <tr>\n",
       "      <th>...</th>\n",
       "      <td>...</td>\n",
       "      <td>...</td>\n",
       "      <td>...</td>\n",
       "      <td>...</td>\n",
       "      <td>...</td>\n",
       "    </tr>\n",
       "    <tr>\n",
       "      <th>5261</th>\n",
       "      <td>0.30000</td>\n",
       "      <td>1.00000</td>\n",
       "      <td>0.30000</td>\n",
       "      <td>0.50000</td>\n",
       "      <td>0.35951</td>\n",
       "    </tr>\n",
       "    <tr>\n",
       "      <th>5262</th>\n",
       "      <td>0.30000</td>\n",
       "      <td>1.00000</td>\n",
       "      <td>0.40000</td>\n",
       "      <td>0.50000</td>\n",
       "      <td>0.35400</td>\n",
       "    </tr>\n",
       "    <tr>\n",
       "      <th>5272</th>\n",
       "      <td>0.30000</td>\n",
       "      <td>1.00000</td>\n",
       "      <td>0.30000</td>\n",
       "      <td>0.60000</td>\n",
       "      <td>0.35818</td>\n",
       "    </tr>\n",
       "    <tr>\n",
       "      <th>5273</th>\n",
       "      <td>0.30000</td>\n",
       "      <td>1.00000</td>\n",
       "      <td>0.40000</td>\n",
       "      <td>0.60000</td>\n",
       "      <td>0.35360</td>\n",
       "    </tr>\n",
       "    <tr>\n",
       "      <th>5283</th>\n",
       "      <td>0.30000</td>\n",
       "      <td>1.00000</td>\n",
       "      <td>0.30000</td>\n",
       "      <td>0.70000</td>\n",
       "      <td>0.35253</td>\n",
       "    </tr>\n",
       "    <tr>\n",
       "      <th>6109</th>\n",
       "      <td>0.40000</td>\n",
       "      <td>0.60000</td>\n",
       "      <td>0.40000</td>\n",
       "      <td>0.50000</td>\n",
       "      <td>0.35583</td>\n",
       "    </tr>\n",
       "    <tr>\n",
       "      <th>6230</th>\n",
       "      <td>0.40000</td>\n",
       "      <td>0.70000</td>\n",
       "      <td>0.40000</td>\n",
       "      <td>0.50000</td>\n",
       "      <td>0.35961</td>\n",
       "    </tr>\n",
       "    <tr>\n",
       "      <th>6351</th>\n",
       "      <td>0.40000</td>\n",
       "      <td>0.80000</td>\n",
       "      <td>0.40000</td>\n",
       "      <td>0.50000</td>\n",
       "      <td>0.35905</td>\n",
       "    </tr>\n",
       "    <tr>\n",
       "      <th>6362</th>\n",
       "      <td>0.40000</td>\n",
       "      <td>0.80000</td>\n",
       "      <td>0.40000</td>\n",
       "      <td>0.60000</td>\n",
       "      <td>0.35583</td>\n",
       "    </tr>\n",
       "    <tr>\n",
       "      <th>6472</th>\n",
       "      <td>0.40000</td>\n",
       "      <td>0.90000</td>\n",
       "      <td>0.40000</td>\n",
       "      <td>0.50000</td>\n",
       "      <td>0.35786</td>\n",
       "    </tr>\n",
       "    <tr>\n",
       "      <th>6483</th>\n",
       "      <td>0.40000</td>\n",
       "      <td>0.90000</td>\n",
       "      <td>0.40000</td>\n",
       "      <td>0.60000</td>\n",
       "      <td>0.35883</td>\n",
       "    </tr>\n",
       "    <tr>\n",
       "      <th>6494</th>\n",
       "      <td>0.40000</td>\n",
       "      <td>0.90000</td>\n",
       "      <td>0.40000</td>\n",
       "      <td>0.70000</td>\n",
       "      <td>0.35098</td>\n",
       "    </tr>\n",
       "    <tr>\n",
       "      <th>6593</th>\n",
       "      <td>0.40000</td>\n",
       "      <td>1.00000</td>\n",
       "      <td>0.40000</td>\n",
       "      <td>0.50000</td>\n",
       "      <td>0.35670</td>\n",
       "    </tr>\n",
       "    <tr>\n",
       "      <th>6604</th>\n",
       "      <td>0.40000</td>\n",
       "      <td>1.00000</td>\n",
       "      <td>0.40000</td>\n",
       "      <td>0.60000</td>\n",
       "      <td>0.35961</td>\n",
       "    </tr>\n",
       "    <tr>\n",
       "      <th>6605</th>\n",
       "      <td>0.40000</td>\n",
       "      <td>1.00000</td>\n",
       "      <td>0.50000</td>\n",
       "      <td>0.60000</td>\n",
       "      <td>0.35086</td>\n",
       "    </tr>\n",
       "    <tr>\n",
       "      <th>6615</th>\n",
       "      <td>0.40000</td>\n",
       "      <td>1.00000</td>\n",
       "      <td>0.40000</td>\n",
       "      <td>0.70000</td>\n",
       "      <td>0.35583</td>\n",
       "    </tr>\n",
       "    <tr>\n",
       "      <th>7573</th>\n",
       "      <td>0.50000</td>\n",
       "      <td>0.70000</td>\n",
       "      <td>0.50000</td>\n",
       "      <td>0.60000</td>\n",
       "      <td>0.35583</td>\n",
       "    </tr>\n",
       "    <tr>\n",
       "      <th>7694</th>\n",
       "      <td>0.50000</td>\n",
       "      <td>0.80000</td>\n",
       "      <td>0.50000</td>\n",
       "      <td>0.60000</td>\n",
       "      <td>0.35961</td>\n",
       "    </tr>\n",
       "    <tr>\n",
       "      <th>7815</th>\n",
       "      <td>0.50000</td>\n",
       "      <td>0.90000</td>\n",
       "      <td>0.50000</td>\n",
       "      <td>0.60000</td>\n",
       "      <td>0.35905</td>\n",
       "    </tr>\n",
       "    <tr>\n",
       "      <th>7826</th>\n",
       "      <td>0.50000</td>\n",
       "      <td>0.90000</td>\n",
       "      <td>0.50000</td>\n",
       "      <td>0.70000</td>\n",
       "      <td>0.35583</td>\n",
       "    </tr>\n",
       "    <tr>\n",
       "      <th>7936</th>\n",
       "      <td>0.50000</td>\n",
       "      <td>1.00000</td>\n",
       "      <td>0.50000</td>\n",
       "      <td>0.60000</td>\n",
       "      <td>0.35786</td>\n",
       "    </tr>\n",
       "    <tr>\n",
       "      <th>7947</th>\n",
       "      <td>0.50000</td>\n",
       "      <td>1.00000</td>\n",
       "      <td>0.50000</td>\n",
       "      <td>0.70000</td>\n",
       "      <td>0.35883</td>\n",
       "    </tr>\n",
       "    <tr>\n",
       "      <th>7958</th>\n",
       "      <td>0.50000</td>\n",
       "      <td>1.00000</td>\n",
       "      <td>0.50000</td>\n",
       "      <td>0.80000</td>\n",
       "      <td>0.35098</td>\n",
       "    </tr>\n",
       "    <tr>\n",
       "      <th>9037</th>\n",
       "      <td>0.60000</td>\n",
       "      <td>0.80000</td>\n",
       "      <td>0.60000</td>\n",
       "      <td>0.70000</td>\n",
       "      <td>0.35583</td>\n",
       "    </tr>\n",
       "    <tr>\n",
       "      <th>9158</th>\n",
       "      <td>0.60000</td>\n",
       "      <td>0.90000</td>\n",
       "      <td>0.60000</td>\n",
       "      <td>0.70000</td>\n",
       "      <td>0.35961</td>\n",
       "    </tr>\n",
       "    <tr>\n",
       "      <th>9279</th>\n",
       "      <td>0.60000</td>\n",
       "      <td>1.00000</td>\n",
       "      <td>0.60000</td>\n",
       "      <td>0.70000</td>\n",
       "      <td>0.35905</td>\n",
       "    </tr>\n",
       "    <tr>\n",
       "      <th>9290</th>\n",
       "      <td>0.60000</td>\n",
       "      <td>1.00000</td>\n",
       "      <td>0.60000</td>\n",
       "      <td>0.80000</td>\n",
       "      <td>0.35583</td>\n",
       "    </tr>\n",
       "    <tr>\n",
       "      <th>10501</th>\n",
       "      <td>0.70000</td>\n",
       "      <td>0.90000</td>\n",
       "      <td>0.70000</td>\n",
       "      <td>0.80000</td>\n",
       "      <td>0.35583</td>\n",
       "    </tr>\n",
       "    <tr>\n",
       "      <th>10622</th>\n",
       "      <td>0.70000</td>\n",
       "      <td>1.00000</td>\n",
       "      <td>0.70000</td>\n",
       "      <td>0.80000</td>\n",
       "      <td>0.35961</td>\n",
       "    </tr>\n",
       "    <tr>\n",
       "      <th>11965</th>\n",
       "      <td>0.80000</td>\n",
       "      <td>1.00000</td>\n",
       "      <td>0.80000</td>\n",
       "      <td>0.90000</td>\n",
       "      <td>0.35583</td>\n",
       "    </tr>\n",
       "  </tbody>\n",
       "</table>\n",
       "<p>153 rows × 5 columns</p>\n",
       "</div>"
      ],
      "text/plain": [
       "       moderate_to_low  moderate    high  high_coastal    corr\n",
       "253            0.00000   0.20000 0.00000       0.10000 0.35583\n",
       "374            0.00000   0.30000 0.00000       0.10000 0.35961\n",
       "495            0.00000   0.40000 0.00000       0.10000 0.35905\n",
       "506            0.00000   0.40000 0.00000       0.20000 0.35583\n",
       "616            0.00000   0.50000 0.00000       0.10000 0.35786\n",
       "627            0.00000   0.50000 0.00000       0.20000 0.35883\n",
       "638            0.00000   0.50000 0.00000       0.30000 0.35098\n",
       "737            0.00000   0.60000 0.00000       0.10000 0.35670\n",
       "748            0.00000   0.60000 0.00000       0.20000 0.35961\n",
       "749            0.00000   0.60000 0.10000       0.20000 0.35086\n",
       "759            0.00000   0.60000 0.00000       0.30000 0.35583\n",
       "858            0.00000   0.70000 0.00000       0.10000 0.35569\n",
       "859            0.00000   0.70000 0.10000       0.10000 0.34962\n",
       "869            0.00000   0.70000 0.00000       0.20000 0.35951\n",
       "870            0.00000   0.70000 0.10000       0.20000 0.35400\n",
       "880            0.00000   0.70000 0.00000       0.30000 0.35818\n",
       "881            0.00000   0.70000 0.10000       0.30000 0.35360\n",
       "891            0.00000   0.70000 0.00000       0.40000 0.35253\n",
       "979            0.00000   0.80000 0.00000       0.10000 0.35483\n",
       "980            0.00000   0.80000 0.10000       0.10000 0.35106\n",
       "990            0.00000   0.80000 0.00000       0.20000 0.35905\n",
       "991            0.00000   0.80000 0.10000       0.20000 0.35565\n",
       "1001           0.00000   0.80000 0.00000       0.30000 0.35924\n",
       "1002           0.00000   0.80000 0.10000       0.30000 0.35643\n",
       "1012           0.00000   0.80000 0.00000       0.40000 0.35583\n",
       "1013           0.00000   0.80000 0.10000       0.40000 0.35374\n",
       "1100           0.00000   0.90000 0.00000       0.10000 0.35410\n",
       "1101           0.00000   0.90000 0.10000       0.10000 0.35185\n",
       "1111           0.00000   0.90000 0.00000       0.20000 0.35847\n",
       "1112           0.00000   0.90000 0.10000       0.20000 0.35648\n",
       "...                ...       ...     ...           ...     ...\n",
       "5261           0.30000   1.00000 0.30000       0.50000 0.35951\n",
       "5262           0.30000   1.00000 0.40000       0.50000 0.35400\n",
       "5272           0.30000   1.00000 0.30000       0.60000 0.35818\n",
       "5273           0.30000   1.00000 0.40000       0.60000 0.35360\n",
       "5283           0.30000   1.00000 0.30000       0.70000 0.35253\n",
       "6109           0.40000   0.60000 0.40000       0.50000 0.35583\n",
       "6230           0.40000   0.70000 0.40000       0.50000 0.35961\n",
       "6351           0.40000   0.80000 0.40000       0.50000 0.35905\n",
       "6362           0.40000   0.80000 0.40000       0.60000 0.35583\n",
       "6472           0.40000   0.90000 0.40000       0.50000 0.35786\n",
       "6483           0.40000   0.90000 0.40000       0.60000 0.35883\n",
       "6494           0.40000   0.90000 0.40000       0.70000 0.35098\n",
       "6593           0.40000   1.00000 0.40000       0.50000 0.35670\n",
       "6604           0.40000   1.00000 0.40000       0.60000 0.35961\n",
       "6605           0.40000   1.00000 0.50000       0.60000 0.35086\n",
       "6615           0.40000   1.00000 0.40000       0.70000 0.35583\n",
       "7573           0.50000   0.70000 0.50000       0.60000 0.35583\n",
       "7694           0.50000   0.80000 0.50000       0.60000 0.35961\n",
       "7815           0.50000   0.90000 0.50000       0.60000 0.35905\n",
       "7826           0.50000   0.90000 0.50000       0.70000 0.35583\n",
       "7936           0.50000   1.00000 0.50000       0.60000 0.35786\n",
       "7947           0.50000   1.00000 0.50000       0.70000 0.35883\n",
       "7958           0.50000   1.00000 0.50000       0.80000 0.35098\n",
       "9037           0.60000   0.80000 0.60000       0.70000 0.35583\n",
       "9158           0.60000   0.90000 0.60000       0.70000 0.35961\n",
       "9279           0.60000   1.00000 0.60000       0.70000 0.35905\n",
       "9290           0.60000   1.00000 0.60000       0.80000 0.35583\n",
       "10501          0.70000   0.90000 0.70000       0.80000 0.35583\n",
       "10622          0.70000   1.00000 0.70000       0.80000 0.35961\n",
       "11965          0.80000   1.00000 0.80000       0.90000 0.35583\n",
       "\n",
       "[153 rows x 5 columns]"
      ]
     },
     "execution_count": 249,
     "metadata": {},
     "output_type": "execute_result"
    }
   ],
   "source": [
    "corr_results[abs(corr_results['corr']- 0.35961) <= .01 ]"
   ]
  },
  {
   "cell_type": "code",
   "execution_count": null,
   "metadata": {},
   "outputs": [],
   "source": []
  }
 ],
 "metadata": {
  "kernelspec": {
   "display_name": "Python 3",
   "language": "python",
   "name": "python3"
  },
  "language_info": {
   "codemirror_mode": {
    "name": "ipython",
    "version": 3
   },
   "file_extension": ".py",
   "mimetype": "text/x-python",
   "name": "python",
   "nbconvert_exporter": "python",
   "pygments_lexer": "ipython3",
   "version": "3.8.2"
  }
 },
 "nbformat": 4,
 "nbformat_minor": 2
}
